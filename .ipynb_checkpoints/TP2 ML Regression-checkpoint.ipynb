{
 "cells": [
  {
   "cell_type": "markdown",
   "id": "7c56190e",
   "metadata": {},
   "source": [
    "# 1. Charger, explorer et prétraiter la base de données « Auto MPG »"
   ]
  },
  {
   "cell_type": "code",
   "execution_count": 82,
   "id": "a1f50742",
   "metadata": {},
   "outputs": [],
   "source": [
    "# Importation des librairies\n",
    "import numpy as np\n",
    "import pandas as pd\n",
    "import matplotlib.pyplot as plt\n",
    "import seaborn as sns\n",
    "from sklearn.preprocessing import OrdinalEncoder\n",
    "from sklearn.model_selection import train_test_split\n",
    "from sklearn.metrics import mean_squared_error, mean_absolute_error, r2_score\n",
    "from sklearn.linear_model import LinearRegression\n",
    "from sklearn.preprocessing import StandardScaler\n",
    "from mlxtend.feature_selection import SequentialFeatureSelector as sfs\n",
    "from mlxtend.feature_selection import ExhaustiveFeatureSelector as EFS\n",
    "from sklearn.tree import DecisionTreeRegressor\n",
    "from sklearn.model_selection import cross_val_score\n",
    "from sklearn.model_selection import GridSearchCV\n",
    "from sklearn.svm import SVR\n",
    "from sklearn.pipeline import Pipeline\n",
    "from sklearn.neural_network import MLPRegressor"
   ]
  },
  {
   "cell_type": "code",
   "execution_count": 65,
   "id": "62413736",
   "metadata": {},
   "outputs": [
    {
     "name": "stdout",
     "output_type": "stream",
     "text": [
      "(398, 9)\n"
     ]
    }
   ],
   "source": [
    "#charger la dataset en utilisant pandas\n",
    "df = pd.read_csv('autos_mpg.csv')\n",
    "print(df.shape)"
   ]
  },
  {
   "cell_type": "code",
   "execution_count": 4,
   "id": "0d2f8463",
   "metadata": {},
   "outputs": [
    {
     "data": {
      "text/html": [
       "<div>\n",
       "<style scoped>\n",
       "    .dataframe tbody tr th:only-of-type {\n",
       "        vertical-align: middle;\n",
       "    }\n",
       "\n",
       "    .dataframe tbody tr th {\n",
       "        vertical-align: top;\n",
       "    }\n",
       "\n",
       "    .dataframe thead th {\n",
       "        text-align: right;\n",
       "    }\n",
       "</style>\n",
       "<table border=\"1\" class=\"dataframe\">\n",
       "  <thead>\n",
       "    <tr style=\"text-align: right;\">\n",
       "      <th></th>\n",
       "      <th>MPG</th>\n",
       "      <th>CYLINDERS</th>\n",
       "      <th>DISPLACEMENT</th>\n",
       "      <th>HP</th>\n",
       "      <th>WEIGHT</th>\n",
       "      <th>ACCELERATION</th>\n",
       "      <th>YEAR</th>\n",
       "      <th>ORIGIN</th>\n",
       "      <th>NAME</th>\n",
       "    </tr>\n",
       "  </thead>\n",
       "  <tbody>\n",
       "    <tr>\n",
       "      <th>0</th>\n",
       "      <td>18.0</td>\n",
       "      <td>8</td>\n",
       "      <td>307.0</td>\n",
       "      <td>130</td>\n",
       "      <td>3504</td>\n",
       "      <td>12.0</td>\n",
       "      <td>70</td>\n",
       "      <td>USA</td>\n",
       "      <td>chevrolet chevelle malibu</td>\n",
       "    </tr>\n",
       "    <tr>\n",
       "      <th>1</th>\n",
       "      <td>15.0</td>\n",
       "      <td>8</td>\n",
       "      <td>350.0</td>\n",
       "      <td>165</td>\n",
       "      <td>3693</td>\n",
       "      <td>11.5</td>\n",
       "      <td>70</td>\n",
       "      <td>USA</td>\n",
       "      <td>buick skylark 320</td>\n",
       "    </tr>\n",
       "    <tr>\n",
       "      <th>2</th>\n",
       "      <td>18.0</td>\n",
       "      <td>8</td>\n",
       "      <td>318.0</td>\n",
       "      <td>150</td>\n",
       "      <td>3436</td>\n",
       "      <td>11.0</td>\n",
       "      <td>70</td>\n",
       "      <td>USA</td>\n",
       "      <td>plymouth satellite</td>\n",
       "    </tr>\n",
       "    <tr>\n",
       "      <th>3</th>\n",
       "      <td>16.0</td>\n",
       "      <td>8</td>\n",
       "      <td>304.0</td>\n",
       "      <td>150</td>\n",
       "      <td>3433</td>\n",
       "      <td>12.0</td>\n",
       "      <td>70</td>\n",
       "      <td>USA</td>\n",
       "      <td>amc rebel sst</td>\n",
       "    </tr>\n",
       "    <tr>\n",
       "      <th>4</th>\n",
       "      <td>17.0</td>\n",
       "      <td>8</td>\n",
       "      <td>302.0</td>\n",
       "      <td>140</td>\n",
       "      <td>3449</td>\n",
       "      <td>10.5</td>\n",
       "      <td>70</td>\n",
       "      <td>USA</td>\n",
       "      <td>ford torino</td>\n",
       "    </tr>\n",
       "    <tr>\n",
       "      <th>5</th>\n",
       "      <td>15.0</td>\n",
       "      <td>8</td>\n",
       "      <td>429.0</td>\n",
       "      <td>198</td>\n",
       "      <td>4341</td>\n",
       "      <td>10.0</td>\n",
       "      <td>70</td>\n",
       "      <td>USA</td>\n",
       "      <td>ford galaxie 500</td>\n",
       "    </tr>\n",
       "    <tr>\n",
       "      <th>6</th>\n",
       "      <td>14.0</td>\n",
       "      <td>8</td>\n",
       "      <td>454.0</td>\n",
       "      <td>220</td>\n",
       "      <td>4354</td>\n",
       "      <td>9.0</td>\n",
       "      <td>70</td>\n",
       "      <td>USA</td>\n",
       "      <td>chevrolet impala</td>\n",
       "    </tr>\n",
       "    <tr>\n",
       "      <th>7</th>\n",
       "      <td>14.0</td>\n",
       "      <td>8</td>\n",
       "      <td>440.0</td>\n",
       "      <td>215</td>\n",
       "      <td>4312</td>\n",
       "      <td>8.5</td>\n",
       "      <td>70</td>\n",
       "      <td>USA</td>\n",
       "      <td>plymouth fury iii</td>\n",
       "    </tr>\n",
       "    <tr>\n",
       "      <th>8</th>\n",
       "      <td>14.0</td>\n",
       "      <td>8</td>\n",
       "      <td>455.0</td>\n",
       "      <td>225</td>\n",
       "      <td>4425</td>\n",
       "      <td>10.0</td>\n",
       "      <td>70</td>\n",
       "      <td>USA</td>\n",
       "      <td>pontiac catalina</td>\n",
       "    </tr>\n",
       "    <tr>\n",
       "      <th>9</th>\n",
       "      <td>15.0</td>\n",
       "      <td>8</td>\n",
       "      <td>390.0</td>\n",
       "      <td>190</td>\n",
       "      <td>3850</td>\n",
       "      <td>8.5</td>\n",
       "      <td>70</td>\n",
       "      <td>USA</td>\n",
       "      <td>amc ambassador dpl</td>\n",
       "    </tr>\n",
       "  </tbody>\n",
       "</table>\n",
       "</div>"
      ],
      "text/plain": [
       "    MPG  CYLINDERS  DISPLACEMENT   HP  WEIGHT  ACCELERATION  YEAR ORIGIN  \\\n",
       "0  18.0          8         307.0  130    3504          12.0    70    USA   \n",
       "1  15.0          8         350.0  165    3693          11.5    70    USA   \n",
       "2  18.0          8         318.0  150    3436          11.0    70    USA   \n",
       "3  16.0          8         304.0  150    3433          12.0    70    USA   \n",
       "4  17.0          8         302.0  140    3449          10.5    70    USA   \n",
       "5  15.0          8         429.0  198    4341          10.0    70    USA   \n",
       "6  14.0          8         454.0  220    4354           9.0    70    USA   \n",
       "7  14.0          8         440.0  215    4312           8.5    70    USA   \n",
       "8  14.0          8         455.0  225    4425          10.0    70    USA   \n",
       "9  15.0          8         390.0  190    3850           8.5    70    USA   \n",
       "\n",
       "                        NAME  \n",
       "0  chevrolet chevelle malibu  \n",
       "1          buick skylark 320  \n",
       "2         plymouth satellite  \n",
       "3              amc rebel sst  \n",
       "4                ford torino  \n",
       "5           ford galaxie 500  \n",
       "6           chevrolet impala  \n",
       "7          plymouth fury iii  \n",
       "8           pontiac catalina  \n",
       "9         amc ambassador dpl  "
      ]
     },
     "execution_count": 4,
     "metadata": {},
     "output_type": "execute_result"
    }
   ],
   "source": [
    "df.head(10)"
   ]
  },
  {
   "cell_type": "code",
   "execution_count": 6,
   "id": "ab32b0db",
   "metadata": {},
   "outputs": [
    {
     "name": "stdout",
     "output_type": "stream",
     "text": [
      "<class 'pandas.core.frame.DataFrame'>\n",
      "RangeIndex: 398 entries, 0 to 397\n",
      "Data columns (total 9 columns):\n",
      " #   Column        Non-Null Count  Dtype  \n",
      "---  ------        --------------  -----  \n",
      " 0   MPG           398 non-null    float64\n",
      " 1   CYLINDERS     398 non-null    int64  \n",
      " 2   DISPLACEMENT  398 non-null    float64\n",
      " 3   HP            392 non-null    float64\n",
      " 4   WEIGHT        398 non-null    int64  \n",
      " 5   ACCELERATION  398 non-null    float64\n",
      " 6   YEAR          398 non-null    int64  \n",
      " 7   ORIGIN        398 non-null    object \n",
      " 8   NAME          398 non-null    object \n",
      "dtypes: float64(4), int64(3), object(2)\n",
      "memory usage: 28.1+ KB\n"
     ]
    }
   ],
   "source": [
    "# Explorer le dataset\n",
    "df.info()"
   ]
  },
  {
   "cell_type": "code",
   "execution_count": 5,
   "id": "b4a31948",
   "metadata": {},
   "outputs": [],
   "source": [
    "#changer le type de la variable HP\n",
    "df['HP'] = pd.to_numeric(df['HP'], errors = 'coerce')"
   ]
  },
  {
   "cell_type": "code",
   "execution_count": 10,
   "id": "e5f8e4b4",
   "metadata": {},
   "outputs": [
    {
     "data": {
      "text/plain": [
       "MPG             0\n",
       "CYLINDERS       0\n",
       "DISPLACEMENT    0\n",
       "HP              0\n",
       "WEIGHT          0\n",
       "ACCELERATION    0\n",
       "YEAR            0\n",
       "ORIGIN          0\n",
       "NAME            0\n",
       "dtype: int64"
      ]
     },
     "execution_count": 10,
     "metadata": {},
     "output_type": "execute_result"
    }
   ],
   "source": [
    "#Check the existence of null vaues\n",
    "df.isna().sum()"
   ]
  },
  {
   "cell_type": "code",
   "execution_count": 8,
   "id": "c58ead4a",
   "metadata": {},
   "outputs": [],
   "source": [
    "#delete nan values\n",
    "df.dropna(axis = 0, how = \"any\", inplace=True)"
   ]
  },
  {
   "cell_type": "code",
   "execution_count": 11,
   "id": "d35b49c5",
   "metadata": {},
   "outputs": [
    {
     "data": {
      "text/plain": [
       "amc matador            5\n",
       "ford pinto             5\n",
       "toyota corolla         5\n",
       "toyota corona          4\n",
       "amc hornet             4\n",
       "                      ..\n",
       "buick skyhawk          1\n",
       "chevrolet monza 2+2    1\n",
       "ford mustang ii        1\n",
       "pontiac astro          1\n",
       "chevy s-10             1\n",
       "Name: NAME, Length: 301, dtype: int64"
      ]
     },
     "execution_count": 11,
     "metadata": {},
     "output_type": "execute_result"
    }
   ],
   "source": [
    "# name variable explore\n",
    "df['NAME'].value_counts()"
   ]
  },
  {
   "cell_type": "code",
   "execution_count": 12,
   "id": "c984d2ff",
   "metadata": {},
   "outputs": [],
   "source": [
    "# Supprimer le nom de voiture\n",
    "df.drop('NAME', axis = 1, inplace= True)"
   ]
  },
  {
   "cell_type": "code",
   "execution_count": 16,
   "id": "e4f02e23",
   "metadata": {},
   "outputs": [
    {
     "data": {
      "text/plain": [
       "<AxesSubplot:>"
      ]
     },
     "execution_count": 16,
     "metadata": {},
     "output_type": "execute_result"
    },
    {
     "data": {
      "image/png": "[encoded data removed]",
      "text/plain": [
       "<Figure size 640x480 with 2 Axes>"
      ]
     },
     "metadata": {},
     "output_type": "display_data"
    }
   ],
   "source": [
    "# Correlations\n",
    "sns.heatmap(df.corr(), annot = True, cmap = 'coolwarm')"
   ]
  },
  {
   "cell_type": "markdown",
   "id": "76682e81",
   "metadata": {},
   "source": [
    "Nous remarquons une corrélation linéaire considerable entre la variable dependante et toutes les autres variables"
   ]
  },
  {
   "cell_type": "code",
   "execution_count": 19,
   "id": "1d71c294",
   "metadata": {},
   "outputs": [
    {
     "data": {
      "text/html": [
       "<div>\n",
       "<style scoped>\n",
       "    .dataframe tbody tr th:only-of-type {\n",
       "        vertical-align: middle;\n",
       "    }\n",
       "\n",
       "    .dataframe tbody tr th {\n",
       "        vertical-align: top;\n",
       "    }\n",
       "\n",
       "    .dataframe thead th {\n",
       "        text-align: right;\n",
       "    }\n",
       "</style>\n",
       "<table border=\"1\" class=\"dataframe\">\n",
       "  <thead>\n",
       "    <tr style=\"text-align: right;\">\n",
       "      <th></th>\n",
       "      <th>MPG</th>\n",
       "      <th>CYLINDERS</th>\n",
       "      <th>DISPLACEMENT</th>\n",
       "      <th>HP</th>\n",
       "      <th>WEIGHT</th>\n",
       "      <th>ACCELERATION</th>\n",
       "      <th>YEAR</th>\n",
       "      <th>ORIGIN_Japan</th>\n",
       "      <th>ORIGIN_USA</th>\n",
       "    </tr>\n",
       "  </thead>\n",
       "  <tbody>\n",
       "    <tr>\n",
       "      <th>0</th>\n",
       "      <td>18.0</td>\n",
       "      <td>8</td>\n",
       "      <td>307.0</td>\n",
       "      <td>130.0</td>\n",
       "      <td>3504</td>\n",
       "      <td>12.0</td>\n",
       "      <td>70</td>\n",
       "      <td>0</td>\n",
       "      <td>1</td>\n",
       "    </tr>\n",
       "    <tr>\n",
       "      <th>1</th>\n",
       "      <td>15.0</td>\n",
       "      <td>8</td>\n",
       "      <td>350.0</td>\n",
       "      <td>165.0</td>\n",
       "      <td>3693</td>\n",
       "      <td>11.5</td>\n",
       "      <td>70</td>\n",
       "      <td>0</td>\n",
       "      <td>1</td>\n",
       "    </tr>\n",
       "    <tr>\n",
       "      <th>2</th>\n",
       "      <td>18.0</td>\n",
       "      <td>8</td>\n",
       "      <td>318.0</td>\n",
       "      <td>150.0</td>\n",
       "      <td>3436</td>\n",
       "      <td>11.0</td>\n",
       "      <td>70</td>\n",
       "      <td>0</td>\n",
       "      <td>1</td>\n",
       "    </tr>\n",
       "    <tr>\n",
       "      <th>3</th>\n",
       "      <td>16.0</td>\n",
       "      <td>8</td>\n",
       "      <td>304.0</td>\n",
       "      <td>150.0</td>\n",
       "      <td>3433</td>\n",
       "      <td>12.0</td>\n",
       "      <td>70</td>\n",
       "      <td>0</td>\n",
       "      <td>1</td>\n",
       "    </tr>\n",
       "    <tr>\n",
       "      <th>4</th>\n",
       "      <td>17.0</td>\n",
       "      <td>8</td>\n",
       "      <td>302.0</td>\n",
       "      <td>140.0</td>\n",
       "      <td>3449</td>\n",
       "      <td>10.5</td>\n",
       "      <td>70</td>\n",
       "      <td>0</td>\n",
       "      <td>1</td>\n",
       "    </tr>\n",
       "    <tr>\n",
       "      <th>5</th>\n",
       "      <td>15.0</td>\n",
       "      <td>8</td>\n",
       "      <td>429.0</td>\n",
       "      <td>198.0</td>\n",
       "      <td>4341</td>\n",
       "      <td>10.0</td>\n",
       "      <td>70</td>\n",
       "      <td>0</td>\n",
       "      <td>1</td>\n",
       "    </tr>\n",
       "    <tr>\n",
       "      <th>6</th>\n",
       "      <td>14.0</td>\n",
       "      <td>8</td>\n",
       "      <td>454.0</td>\n",
       "      <td>220.0</td>\n",
       "      <td>4354</td>\n",
       "      <td>9.0</td>\n",
       "      <td>70</td>\n",
       "      <td>0</td>\n",
       "      <td>1</td>\n",
       "    </tr>\n",
       "    <tr>\n",
       "      <th>7</th>\n",
       "      <td>14.0</td>\n",
       "      <td>8</td>\n",
       "      <td>440.0</td>\n",
       "      <td>215.0</td>\n",
       "      <td>4312</td>\n",
       "      <td>8.5</td>\n",
       "      <td>70</td>\n",
       "      <td>0</td>\n",
       "      <td>1</td>\n",
       "    </tr>\n",
       "    <tr>\n",
       "      <th>8</th>\n",
       "      <td>14.0</td>\n",
       "      <td>8</td>\n",
       "      <td>455.0</td>\n",
       "      <td>225.0</td>\n",
       "      <td>4425</td>\n",
       "      <td>10.0</td>\n",
       "      <td>70</td>\n",
       "      <td>0</td>\n",
       "      <td>1</td>\n",
       "    </tr>\n",
       "    <tr>\n",
       "      <th>9</th>\n",
       "      <td>15.0</td>\n",
       "      <td>8</td>\n",
       "      <td>390.0</td>\n",
       "      <td>190.0</td>\n",
       "      <td>3850</td>\n",
       "      <td>8.5</td>\n",
       "      <td>70</td>\n",
       "      <td>0</td>\n",
       "      <td>1</td>\n",
       "    </tr>\n",
       "  </tbody>\n",
       "</table>\n",
       "</div>"
      ],
      "text/plain": [
       "    MPG  CYLINDERS  DISPLACEMENT     HP  WEIGHT  ACCELERATION  YEAR  \\\n",
       "0  18.0          8         307.0  130.0    3504          12.0    70   \n",
       "1  15.0          8         350.0  165.0    3693          11.5    70   \n",
       "2  18.0          8         318.0  150.0    3436          11.0    70   \n",
       "3  16.0          8         304.0  150.0    3433          12.0    70   \n",
       "4  17.0          8         302.0  140.0    3449          10.5    70   \n",
       "5  15.0          8         429.0  198.0    4341          10.0    70   \n",
       "6  14.0          8         454.0  220.0    4354           9.0    70   \n",
       "7  14.0          8         440.0  215.0    4312           8.5    70   \n",
       "8  14.0          8         455.0  225.0    4425          10.0    70   \n",
       "9  15.0          8         390.0  190.0    3850           8.5    70   \n",
       "\n",
       "   ORIGIN_Japan  ORIGIN_USA  \n",
       "0             0           1  \n",
       "1             0           1  \n",
       "2             0           1  \n",
       "3             0           1  \n",
       "4             0           1  \n",
       "5             0           1  \n",
       "6             0           1  \n",
       "7             0           1  \n",
       "8             0           1  \n",
       "9             0           1  "
      ]
     },
     "execution_count": 19,
     "metadata": {},
     "output_type": "execute_result"
    }
   ],
   "source": [
    "# Dummies\n",
    "df_dummies = pd.get_dummies(df,prefix=['ORIGIN'],\n",
    "columns = ['ORIGIN'], drop_first=True)\n",
    "df_dummies.head(10)"
   ]
  },
  {
   "cell_type": "code",
   "execution_count": 20,
   "id": "9e267bb3",
   "metadata": {},
   "outputs": [
    {
     "data": {
      "text/html": [
       "<div>\n",
       "<style scoped>\n",
       "    .dataframe tbody tr th:only-of-type {\n",
       "        vertical-align: middle;\n",
       "    }\n",
       "\n",
       "    .dataframe tbody tr th {\n",
       "        vertical-align: top;\n",
       "    }\n",
       "\n",
       "    .dataframe thead th {\n",
       "        text-align: right;\n",
       "    }\n",
       "</style>\n",
       "<table border=\"1\" class=\"dataframe\">\n",
       "  <thead>\n",
       "    <tr style=\"text-align: right;\">\n",
       "      <th></th>\n",
       "      <th>MPG</th>\n",
       "      <th>CYLINDERS</th>\n",
       "      <th>DISPLACEMENT</th>\n",
       "      <th>HP</th>\n",
       "      <th>WEIGHT</th>\n",
       "      <th>ACCELERATION</th>\n",
       "      <th>YEAR</th>\n",
       "      <th>ORIGIN</th>\n",
       "    </tr>\n",
       "  </thead>\n",
       "  <tbody>\n",
       "    <tr>\n",
       "      <th>0</th>\n",
       "      <td>18.0</td>\n",
       "      <td>8</td>\n",
       "      <td>307.0</td>\n",
       "      <td>130.0</td>\n",
       "      <td>3504</td>\n",
       "      <td>12.0</td>\n",
       "      <td>70</td>\n",
       "      <td>2.0</td>\n",
       "    </tr>\n",
       "    <tr>\n",
       "      <th>1</th>\n",
       "      <td>15.0</td>\n",
       "      <td>8</td>\n",
       "      <td>350.0</td>\n",
       "      <td>165.0</td>\n",
       "      <td>3693</td>\n",
       "      <td>11.5</td>\n",
       "      <td>70</td>\n",
       "      <td>2.0</td>\n",
       "    </tr>\n",
       "    <tr>\n",
       "      <th>2</th>\n",
       "      <td>18.0</td>\n",
       "      <td>8</td>\n",
       "      <td>318.0</td>\n",
       "      <td>150.0</td>\n",
       "      <td>3436</td>\n",
       "      <td>11.0</td>\n",
       "      <td>70</td>\n",
       "      <td>2.0</td>\n",
       "    </tr>\n",
       "    <tr>\n",
       "      <th>3</th>\n",
       "      <td>16.0</td>\n",
       "      <td>8</td>\n",
       "      <td>304.0</td>\n",
       "      <td>150.0</td>\n",
       "      <td>3433</td>\n",
       "      <td>12.0</td>\n",
       "      <td>70</td>\n",
       "      <td>2.0</td>\n",
       "    </tr>\n",
       "    <tr>\n",
       "      <th>4</th>\n",
       "      <td>17.0</td>\n",
       "      <td>8</td>\n",
       "      <td>302.0</td>\n",
       "      <td>140.0</td>\n",
       "      <td>3449</td>\n",
       "      <td>10.5</td>\n",
       "      <td>70</td>\n",
       "      <td>2.0</td>\n",
       "    </tr>\n",
       "  </tbody>\n",
       "</table>\n",
       "</div>"
      ],
      "text/plain": [
       "    MPG  CYLINDERS  DISPLACEMENT     HP  WEIGHT  ACCELERATION  YEAR  ORIGIN\n",
       "0  18.0          8         307.0  130.0    3504          12.0    70     2.0\n",
       "1  15.0          8         350.0  165.0    3693          11.5    70     2.0\n",
       "2  18.0          8         318.0  150.0    3436          11.0    70     2.0\n",
       "3  16.0          8         304.0  150.0    3433          12.0    70     2.0\n",
       "4  17.0          8         302.0  140.0    3449          10.5    70     2.0"
      ]
     },
     "execution_count": 20,
     "metadata": {},
     "output_type": "execute_result"
    }
   ],
   "source": [
    "# Ordinal encoder\n",
    "df_toenc = df[['ORIGIN']]\n",
    "df_toenc = df_toenc.to_numpy()\n",
    "enc = OrdinalEncoder()\n",
    "enc_fitted = enc.fit(df_toenc)\n",
    "encoded = enc_fitted.transform(df_toenc)\n",
    "df_ordinal = df\n",
    "df_ordinal['ORIGIN'] = encoded\n",
    "df_ordinal.head()"
   ]
  },
  {
   "cell_type": "markdown",
   "id": "d1eb6aa6",
   "metadata": {},
   "source": [
    "# 2. Régression linéaire"
   ]
  },
  {
   "cell_type": "markdown",
   "id": "8f96be27",
   "metadata": {},
   "source": [
    "### 2.1. Avec holdout"
   ]
  },
  {
   "cell_type": "code",
   "execution_count": 49,
   "id": "c9b09515",
   "metadata": {},
   "outputs": [],
   "source": [
    "X = df_dummies.drop([\"MPG\"], axis=1).values[:,:]\n",
    "y = df_dummies[\"MPG\"] # label\n",
    "X_train, X_test, y_train, y_test = train_test_split(X,y, test_size=0.25, random_state=100)"
   ]
  },
  {
   "cell_type": "code",
   "execution_count": 50,
   "id": "0d4be639",
   "metadata": {},
   "outputs": [],
   "source": [
    "# Entrainement du model\n",
    "Model = LinearRegression()\n",
    "Model.fit(X_train, y_train)\n",
    "yhat_LR = Model.predict(X_test)"
   ]
  },
  {
   "cell_type": "code",
   "execution_count": 51,
   "id": "e6daf487",
   "metadata": {},
   "outputs": [
    {
     "name": "stdout",
     "output_type": "stream",
     "text": [
      "MSE : 11.051\n",
      "MAE : 2.669\n",
      "R2 : 0.801\n"
     ]
    }
   ],
   "source": [
    "#évaluer les predictions\n",
    "score = mean_squared_error(y_test, yhat_LR)\n",
    "print('MSE : %.3f' %score)\n",
    "score_ab = mean_absolute_error(y_test, yhat_LR)\n",
    "print('MAE : %.3f' %score_ab)\n",
    "R2 = r2_score(y_test, yhat_LR)\n",
    "print('R2 : %.3f' %R2)"
   ]
  },
  {
   "cell_type": "markdown",
   "id": "5763a7ce",
   "metadata": {},
   "source": [
    "### 2.2. Feature selection"
   ]
  },
  {
   "cell_type": "markdown",
   "id": "9fbe7922",
   "metadata": {},
   "source": [
    "#### a- Forward feature selection"
   ]
  },
  {
   "cell_type": "code",
   "execution_count": 32,
   "id": "38ba04ea",
   "metadata": {},
   "outputs": [],
   "source": [
    "model_LR = LinearRegression()\n",
    "sfs = sfs(model_LR, k_features='best',scoring='r2', cv=5, forward = False)\n",
    "sfs = sfs.fit(X_train, y_train) #trouver les meilleurs attributs"
   ]
  },
  {
   "cell_type": "code",
   "execution_count": 33,
   "id": "22df28ca",
   "metadata": {},
   "outputs": [],
   "source": [
    "#transformer la matrice original et ne laisser que les attributs sélectionnés\n",
    "X_train_sfs = sfs.transform(X_train)"
   ]
  },
  {
   "cell_type": "code",
   "execution_count": 34,
   "id": "859a7646",
   "metadata": {},
   "outputs": [
    {
     "data": {
      "text/plain": [
       "array([[6.000e+00, 2.500e+02, 8.800e+01, 3.302e+03, 7.100e+01, 1.000e+00],\n",
       "       [4.000e+00, 1.560e+02, 1.050e+02, 2.800e+03, 8.000e+01, 1.000e+00],\n",
       "       [6.000e+00, 2.500e+02, 1.000e+02, 3.278e+03, 7.300e+01, 1.000e+00],\n",
       "       ...,\n",
       "       [5.000e+00, 1.830e+02, 7.700e+01, 3.530e+03, 7.900e+01, 0.000e+00],\n",
       "       [4.000e+00, 9.700e+01, 8.800e+01, 2.130e+03, 7.000e+01, 0.000e+00],\n",
       "       [4.000e+00, 9.800e+01, 6.300e+01, 2.051e+03, 7.700e+01, 1.000e+00]])"
      ]
     },
     "execution_count": 34,
     "metadata": {},
     "output_type": "execute_result"
    }
   ],
   "source": [
    "X_train_sfs"
   ]
  },
  {
   "cell_type": "code",
   "execution_count": 35,
   "id": "7f6aae5e",
   "metadata": {},
   "outputs": [],
   "source": [
    "# transforation de la matrice de test\n",
    "X_test_sfs = sfs.transform(X_test)"
   ]
  },
  {
   "cell_type": "code",
   "execution_count": 36,
   "id": "2e459183",
   "metadata": {},
   "outputs": [
    {
     "data": {
      "text/plain": [
       "array([[4.000e+00, 1.080e+02, 9.400e+01, 2.379e+03, 7.300e+01, 0.000e+00],\n",
       "       [6.000e+00, 2.250e+02, 9.500e+01, 3.785e+03, 7.500e+01, 1.000e+00],\n",
       "       [4.000e+00, 9.000e+01, 4.800e+01, 1.985e+03, 7.800e+01, 0.000e+00],\n",
       "       [8.000e+00, 3.020e+02, 1.300e+02, 4.295e+03, 7.700e+01, 1.000e+00],\n",
       "       [4.000e+00, 1.400e+02, 9.200e+01, 2.865e+03, 8.200e+01, 1.000e+00],\n",
       "       [6.000e+00, 1.730e+02, 1.100e+02, 2.725e+03, 8.100e+01, 1.000e+00],\n",
       "       [4.000e+00, 1.340e+02, 9.600e+01, 2.702e+03, 7.500e+01, 0.000e+00],\n",
       "       [4.000e+00, 9.700e+01, 7.500e+01, 2.265e+03, 7.700e+01, 0.000e+00],\n",
       "       [8.000e+00, 3.050e+02, 1.300e+02, 3.840e+03, 7.900e+01, 1.000e+00],\n",
       "       [4.000e+00, 9.700e+01, 6.700e+01, 2.065e+03, 8.100e+01, 0.000e+00],\n",
       "       [6.000e+00, 2.500e+02, 1.100e+02, 3.520e+03, 7.700e+01, 1.000e+00],\n",
       "       [8.000e+00, 3.020e+02, 1.400e+02, 4.638e+03, 7.400e+01, 1.000e+00],\n",
       "       [4.000e+00, 9.000e+01, 7.500e+01, 2.125e+03, 7.400e+01, 1.000e+00],\n",
       "       [4.000e+00, 9.700e+01, 4.600e+01, 1.950e+03, 7.300e+01, 0.000e+00],\n",
       "       [8.000e+00, 3.510e+02, 1.480e+02, 4.657e+03, 7.500e+01, 1.000e+00],\n",
       "       [4.000e+00, 1.400e+02, 7.200e+01, 2.408e+03, 7.100e+01, 1.000e+00],\n",
       "       [8.000e+00, 3.180e+02, 1.400e+02, 4.080e+03, 7.800e+01, 1.000e+00],\n",
       "       [4.000e+00, 9.100e+01, 6.800e+01, 1.970e+03, 8.200e+01, 0.000e+00],\n",
       "       [4.000e+00, 1.400e+02, 8.900e+01, 2.755e+03, 7.700e+01, 1.000e+00],\n",
       "       [4.000e+00, 9.700e+01, 6.700e+01, 1.985e+03, 7.700e+01, 0.000e+00],\n",
       "       [6.000e+00, 1.990e+02, 9.000e+01, 2.648e+03, 7.000e+01, 1.000e+00],\n",
       "       [8.000e+00, 3.180e+02, 1.500e+02, 4.135e+03, 7.200e+01, 1.000e+00],\n",
       "       [4.000e+00, 1.510e+02, 9.000e+01, 2.678e+03, 8.000e+01, 1.000e+00],\n",
       "       [4.000e+00, 1.210e+02, 1.100e+02, 2.600e+03, 7.700e+01, 0.000e+00],\n",
       "       [4.000e+00, 1.400e+02, 8.800e+01, 2.720e+03, 7.800e+01, 1.000e+00],\n",
       "       [4.000e+00, 7.800e+01, 5.200e+01, 1.985e+03, 7.800e+01, 0.000e+00],\n",
       "       [6.000e+00, 2.320e+02, 9.000e+01, 3.210e+03, 7.800e+01, 1.000e+00],\n",
       "       [4.000e+00, 9.800e+01, 6.800e+01, 2.155e+03, 7.800e+01, 1.000e+00],\n",
       "       [4.000e+00, 1.070e+02, 7.500e+01, 2.205e+03, 8.200e+01, 0.000e+00],\n",
       "       [8.000e+00, 3.510e+02, 1.380e+02, 3.955e+03, 7.900e+01, 1.000e+00],\n",
       "       [4.000e+00, 1.120e+02, 8.800e+01, 2.605e+03, 8.200e+01, 1.000e+00],\n",
       "       [4.000e+00, 8.500e+01, 6.500e+01, 2.020e+03, 7.900e+01, 0.000e+00],\n",
       "       [4.000e+00, 1.210e+02, 7.600e+01, 2.511e+03, 7.200e+01, 0.000e+00],\n",
       "       [4.000e+00, 9.700e+01, 7.800e+01, 2.190e+03, 7.700e+01, 0.000e+00],\n",
       "       [8.000e+00, 3.020e+02, 1.390e+02, 3.570e+03, 7.800e+01, 1.000e+00],\n",
       "       [6.000e+00, 2.320e+02, 9.000e+01, 3.085e+03, 7.600e+01, 1.000e+00],\n",
       "       [8.000e+00, 3.510e+02, 1.580e+02, 4.363e+03, 7.300e+01, 1.000e+00],\n",
       "       [6.000e+00, 2.310e+02, 1.050e+02, 3.380e+03, 7.800e+01, 1.000e+00],\n",
       "       [8.000e+00, 2.620e+02, 1.100e+02, 3.221e+03, 7.500e+01, 1.000e+00],\n",
       "       [6.000e+00, 2.320e+02, 1.000e+02, 3.288e+03, 7.100e+01, 1.000e+00],\n",
       "       [4.000e+00, 1.050e+02, 7.400e+01, 2.190e+03, 8.100e+01, 0.000e+00],\n",
       "       [8.000e+00, 4.000e+02, 1.750e+02, 5.140e+03, 7.100e+01, 1.000e+00],\n",
       "       [4.000e+00, 1.120e+02, 8.800e+01, 2.395e+03, 8.200e+01, 1.000e+00],\n",
       "       [4.000e+00, 1.160e+02, 9.000e+01, 2.123e+03, 7.100e+01, 0.000e+00],\n",
       "       [4.000e+00, 1.200e+02, 8.800e+01, 2.160e+03, 8.200e+01, 0.000e+00],\n",
       "       [6.000e+00, 2.580e+02, 1.100e+02, 3.632e+03, 7.400e+01, 1.000e+00],\n",
       "       [4.000e+00, 9.700e+01, 7.800e+01, 2.188e+03, 8.000e+01, 0.000e+00],\n",
       "       [8.000e+00, 3.830e+02, 1.700e+02, 3.563e+03, 7.000e+01, 1.000e+00],\n",
       "       [6.000e+00, 2.580e+02, 1.200e+02, 3.410e+03, 7.800e+01, 1.000e+00],\n",
       "       [4.000e+00, 8.500e+01, 7.000e+01, 2.070e+03, 7.800e+01, 0.000e+00],\n",
       "       [4.000e+00, 7.200e+01, 6.900e+01, 1.613e+03, 7.100e+01, 0.000e+00],\n",
       "       [6.000e+00, 1.460e+02, 9.700e+01, 2.815e+03, 7.700e+01, 0.000e+00],\n",
       "       [8.000e+00, 3.180e+02, 1.450e+02, 4.140e+03, 7.700e+01, 1.000e+00],\n",
       "       [4.000e+00, 1.220e+02, 8.600e+01, 2.226e+03, 7.200e+01, 1.000e+00],\n",
       "       [8.000e+00, 3.020e+02, 1.400e+02, 4.294e+03, 7.200e+01, 1.000e+00],\n",
       "       [4.000e+00, 8.500e+01, 6.500e+01, 1.975e+03, 8.100e+01, 0.000e+00],\n",
       "       [4.000e+00, 1.200e+02, 7.500e+01, 2.542e+03, 8.000e+01, 0.000e+00],\n",
       "       [4.000e+00, 9.100e+01, 7.000e+01, 1.955e+03, 7.100e+01, 1.000e+00],\n",
       "       [8.000e+00, 4.000e+02, 1.670e+02, 4.906e+03, 7.300e+01, 1.000e+00],\n",
       "       [4.000e+00, 9.800e+01, 9.000e+01, 2.265e+03, 7.300e+01, 0.000e+00],\n",
       "       [6.000e+00, 2.500e+02, 1.050e+02, 3.353e+03, 7.600e+01, 1.000e+00],\n",
       "       [4.000e+00, 8.900e+01, 7.100e+01, 1.925e+03, 7.900e+01, 0.000e+00],\n",
       "       [8.000e+00, 3.040e+02, 1.500e+02, 3.672e+03, 7.200e+01, 1.000e+00],\n",
       "       [4.000e+00, 9.000e+01, 7.000e+01, 1.937e+03, 7.600e+01, 0.000e+00],\n",
       "       [8.000e+00, 3.040e+02, 1.500e+02, 3.892e+03, 7.200e+01, 1.000e+00],\n",
       "       [8.000e+00, 3.500e+02, 1.450e+02, 4.082e+03, 7.300e+01, 1.000e+00],\n",
       "       [6.000e+00, 2.250e+02, 1.050e+02, 3.121e+03, 7.300e+01, 1.000e+00],\n",
       "       [4.000e+00, 1.160e+02, 8.100e+01, 2.220e+03, 7.600e+01, 0.000e+00],\n",
       "       [4.000e+00, 1.050e+02, 7.000e+01, 2.150e+03, 7.900e+01, 1.000e+00],\n",
       "       [6.000e+00, 2.250e+02, 1.000e+02, 3.651e+03, 7.600e+01, 1.000e+00],\n",
       "       [4.000e+00, 7.100e+01, 6.500e+01, 1.773e+03, 7.100e+01, 0.000e+00],\n",
       "       [4.000e+00, 1.190e+02, 8.200e+01, 2.720e+03, 8.200e+01, 1.000e+00],\n",
       "       [4.000e+00, 8.500e+01, 5.200e+01, 2.035e+03, 7.600e+01, 1.000e+00],\n",
       "       [6.000e+00, 1.980e+02, 9.500e+01, 3.102e+03, 7.400e+01, 1.000e+00],\n",
       "       [4.000e+00, 1.070e+02, 9.000e+01, 2.430e+03, 7.000e+01, 0.000e+00],\n",
       "       [4.000e+00, 9.800e+01, 7.900e+01, 2.255e+03, 7.600e+01, 1.000e+00],\n",
       "       [8.000e+00, 2.600e+02, 9.000e+01, 3.420e+03, 7.900e+01, 1.000e+00],\n",
       "       [6.000e+00, 2.310e+02, 1.150e+02, 3.245e+03, 7.900e+01, 1.000e+00],\n",
       "       [4.000e+00, 8.900e+01, 7.100e+01, 1.990e+03, 7.800e+01, 0.000e+00],\n",
       "       [6.000e+00, 2.500e+02, 7.200e+01, 3.158e+03, 7.500e+01, 1.000e+00],\n",
       "       [4.000e+00, 1.080e+02, 9.300e+01, 2.391e+03, 7.400e+01, 0.000e+00],\n",
       "       [3.000e+00, 8.000e+01, 1.100e+02, 2.720e+03, 7.700e+01, 0.000e+00],\n",
       "       [4.000e+00, 1.190e+02, 9.200e+01, 2.434e+03, 8.000e+01, 0.000e+00],\n",
       "       [6.000e+00, 2.000e+02, 8.500e+01, 2.990e+03, 7.900e+01, 1.000e+00],\n",
       "       [8.000e+00, 3.070e+02, 1.300e+02, 3.504e+03, 7.000e+01, 1.000e+00],\n",
       "       [4.000e+00, 1.110e+02, 8.000e+01, 2.155e+03, 7.700e+01, 1.000e+00],\n",
       "       [4.000e+00, 1.350e+02, 8.400e+01, 2.295e+03, 8.200e+01, 1.000e+00],\n",
       "       [6.000e+00, 2.500e+02, 1.000e+02, 3.329e+03, 7.100e+01, 1.000e+00],\n",
       "       [4.000e+00, 1.400e+02, 8.300e+01, 2.639e+03, 7.500e+01, 1.000e+00],\n",
       "       [4.000e+00, 9.800e+01, 7.600e+01, 2.144e+03, 8.000e+01, 0.000e+00],\n",
       "       [6.000e+00, 2.250e+02, 1.100e+02, 3.360e+03, 7.900e+01, 1.000e+00],\n",
       "       [6.000e+00, 2.500e+02, 8.800e+01, 3.021e+03, 7.300e+01, 1.000e+00],\n",
       "       [6.000e+00, 2.000e+02, 8.500e+01, 2.587e+03, 7.000e+01, 1.000e+00],\n",
       "       [8.000e+00, 3.510e+02, 1.420e+02, 4.054e+03, 7.900e+01, 1.000e+00],\n",
       "       [4.000e+00, 1.070e+02, 8.600e+01, 2.464e+03, 7.600e+01, 0.000e+00],\n",
       "       [8.000e+00, 3.180e+02, 2.100e+02, 4.382e+03, 7.000e+01, 1.000e+00],\n",
       "       [4.000e+00, 1.210e+02, 1.120e+02, 2.868e+03, 7.300e+01, 0.000e+00],\n",
       "       [4.000e+00, 1.050e+02, 6.300e+01, 2.215e+03, 8.100e+01, 1.000e+00]])"
      ]
     },
     "execution_count": 36,
     "metadata": {},
     "output_type": "execute_result"
    }
   ],
   "source": [
    "X_test_sfs"
   ]
  },
  {
   "cell_type": "code",
   "execution_count": 37,
   "id": "f3895169",
   "metadata": {},
   "outputs": [
    {
     "data": {
      "text/plain": [
       "LinearRegression()"
      ]
     },
     "execution_count": 37,
     "metadata": {},
     "output_type": "execute_result"
    }
   ],
   "source": [
    "# Entrainer le modèle de régression sur les données d'entrainements réduites\n",
    "model_LR.fit(X_train_sfs, y_train)"
   ]
  },
  {
   "cell_type": "code",
   "execution_count": 38,
   "id": "e9b5a4b6",
   "metadata": {},
   "outputs": [],
   "source": [
    "#Prédiction sur les données de test\n",
    "y_pred = model_LR.predict(X_test_sfs)"
   ]
  },
  {
   "cell_type": "code",
   "execution_count": 39,
   "id": "95d39194",
   "metadata": {},
   "outputs": [
    {
     "data": {
      "text/plain": [
       "array([25.55239038, 17.05732964, 33.01521125, 15.19723067, 27.6726214 ,\n",
       "       26.83342408, 25.77657807, 29.7674124 , 19.89617833, 34.55298786,\n",
       "       20.72711173, 10.21825014, 25.06552746, 29.48274359, 12.15651843,\n",
       "       22.39968603, 17.60640442, 35.77179544, 24.4497324 , 31.84982329,\n",
       "       19.8552985 , 12.09966017, 27.68407946, 27.24367451, 25.51736962,\n",
       "       32.52828372, 23.62555036, 28.55259733, 34.50417168, 20.30406238,\n",
       "       28.64784663, 32.92795292, 24.8157052 , 30.17041071, 20.50217926,\n",
       "       22.8330331 , 12.17457281, 22.02540396, 20.02668876, 17.16019384,\n",
       "       33.7645033 ,  6.43440592, 30.0290661 , 25.98624016, 34.80595141,\n",
       "       17.8128105 , 32.60557274, 15.63060314, 22.20131903, 31.64126471,\n",
       "       28.62872886, 25.56557934, 16.25394385, 23.43290251, 10.86614747,\n",
       "       34.83860023, 31.07005124, 23.94268512,  9.82893569, 26.11714182,\n",
       "       21.16866481, 33.49437995, 14.717296  , 31.05408828, 13.27030418,\n",
       "       14.38350694, 19.50896118, 29.65581063, 29.54643525, 18.59552447,\n",
       "       27.66621905, 28.28586537, 27.81168412, 19.91754179, 22.88479169,\n",
       "       25.94912278, 22.48803546, 23.41968544, 32.25952379, 22.63712776,\n",
       "       26.31089752, 25.91151798, 31.2381801 , 25.05294178, 14.90119598,\n",
       "       27.78116373, 31.50970767, 17.44032978, 23.77860873, 32.98571193,\n",
       "       22.63052641, 21.44196745, 20.43754505, 19.53252359, 27.62557326,\n",
       "        7.05452425, 22.19143573, 30.94427346])"
      ]
     },
     "execution_count": 39,
     "metadata": {},
     "output_type": "execute_result"
    }
   ],
   "source": [
    "y_pred"
   ]
  },
  {
   "cell_type": "code",
   "execution_count": 57,
   "id": "cfa35624",
   "metadata": {},
   "outputs": [
    {
     "name": "stdout",
     "output_type": "stream",
     "text": [
      "MSE : 98.543\n",
      "MAE : 8.394\n",
      "R2 : -0.770\n"
     ]
    }
   ],
   "source": [
    "#évaluer les predictions\n",
    "score = mean_squared_error(y_test, y_pred)\n",
    "print('MSE : %.3f' %score)\n",
    "score_ab = mean_absolute_error(y_test, y_pred)\n",
    "print('MAE : %.3f' %score_ab)\n",
    "R2 = r2_score(y_test, y_pred)\n",
    "print('R2 : %.3f' %R2)"
   ]
  },
  {
   "cell_type": "code",
   "execution_count": 55,
   "id": "15d84c8a",
   "metadata": {},
   "outputs": [
    {
     "data": {
      "text/plain": [
       "array([25.55239038, 17.05732964, 33.01521125, 15.19723067, 27.6726214 ,\n",
       "       26.83342408, 25.77657807, 29.7674124 , 19.89617833, 34.55298786,\n",
       "       20.72711173, 10.21825014, 25.06552746, 29.48274359, 12.15651843,\n",
       "       22.39968603, 17.60640442, 35.77179544, 24.4497324 , 31.84982329,\n",
       "       19.8552985 , 12.09966017, 27.68407946, 27.24367451, 25.51736962,\n",
       "       32.52828372, 23.62555036, 28.55259733, 34.50417168, 20.30406238,\n",
       "       28.64784663, 32.92795292, 24.8157052 , 30.17041071, 20.50217926,\n",
       "       22.8330331 , 12.17457281, 22.02540396, 20.02668876, 17.16019384,\n",
       "       33.7645033 ,  6.43440592, 30.0290661 , 25.98624016, 34.80595141,\n",
       "       17.8128105 , 32.60557274, 15.63060314, 22.20131903, 31.64126471,\n",
       "       28.62872886, 25.56557934, 16.25394385, 23.43290251, 10.86614747,\n",
       "       34.83860023, 31.07005124, 23.94268512,  9.82893569, 26.11714182,\n",
       "       21.16866481, 33.49437995, 14.717296  , 31.05408828, 13.27030418,\n",
       "       14.38350694, 19.50896118, 29.65581063, 29.54643525, 18.59552447,\n",
       "       27.66621905, 28.28586537, 27.81168412, 19.91754179, 22.88479169,\n",
       "       25.94912278, 22.48803546, 23.41968544, 32.25952379, 22.63712776,\n",
       "       26.31089752, 25.91151798, 31.2381801 , 25.05294178, 14.90119598,\n",
       "       27.78116373, 31.50970767, 17.44032978, 23.77860873, 32.98571193,\n",
       "       22.63052641, 21.44196745, 20.43754505, 19.53252359, 27.62557326,\n",
       "        7.05452425, 22.19143573, 30.94427346])"
      ]
     },
     "execution_count": 55,
     "metadata": {},
     "output_type": "execute_result"
    }
   ],
   "source": [
    "y_pred"
   ]
  },
  {
   "cell_type": "code",
   "execution_count": 56,
   "id": "10f3aeee",
   "metadata": {},
   "outputs": [
    {
     "data": {
      "text/plain": [
       "125    20.0\n",
       "142    26.0\n",
       "278    31.5\n",
       "254    20.2\n",
       "328    30.0\n",
       "       ... \n",
       "168    23.0\n",
       "309    41.5\n",
       "311    32.1\n",
       "61     21.0\n",
       "85     13.0\n",
       "Name: MPG, Length: 98, dtype: float64"
      ]
     },
     "execution_count": 56,
     "metadata": {},
     "output_type": "execute_result"
    }
   ],
   "source": [
    "y_test"
   ]
  },
  {
   "cell_type": "code",
   "execution_count": 58,
   "id": "4577aa66",
   "metadata": {},
   "outputs": [
    {
     "data": {
      "text/html": [
       "<div>\n",
       "<style scoped>\n",
       "    .dataframe tbody tr th:only-of-type {\n",
       "        vertical-align: middle;\n",
       "    }\n",
       "\n",
       "    .dataframe tbody tr th {\n",
       "        vertical-align: top;\n",
       "    }\n",
       "\n",
       "    .dataframe thead th {\n",
       "        text-align: right;\n",
       "    }\n",
       "</style>\n",
       "<table border=\"1\" class=\"dataframe\">\n",
       "  <thead>\n",
       "    <tr style=\"text-align: right;\">\n",
       "      <th></th>\n",
       "      <th>feature_idx</th>\n",
       "      <th>cv_scores</th>\n",
       "      <th>avg_score</th>\n",
       "      <th>feature_names</th>\n",
       "      <th>ci_bound</th>\n",
       "      <th>std_dev</th>\n",
       "      <th>std_err</th>\n",
       "    </tr>\n",
       "  </thead>\n",
       "  <tbody>\n",
       "    <tr>\n",
       "      <th>6</th>\n",
       "      <td>(0, 1, 2, 3, 5, 7)</td>\n",
       "      <td>[0.7835178452190474, 0.8600411327798839, 0.829...</td>\n",
       "      <td>0.805041</td>\n",
       "      <td>(0, 1, 2, 3, 5, 7)</td>\n",
       "      <td>0.053252</td>\n",
       "      <td>0.041432</td>\n",
       "      <td>0.020716</td>\n",
       "    </tr>\n",
       "    <tr>\n",
       "      <th>7</th>\n",
       "      <td>(0, 1, 2, 3, 4, 5, 7)</td>\n",
       "      <td>[0.7822527084546411, 0.8605730834486897, 0.830...</td>\n",
       "      <td>0.804752</td>\n",
       "      <td>(0, 1, 2, 3, 4, 5, 7)</td>\n",
       "      <td>0.053058</td>\n",
       "      <td>0.041281</td>\n",
       "      <td>0.02064</td>\n",
       "    </tr>\n",
       "    <tr>\n",
       "      <th>4</th>\n",
       "      <td>(1, 3, 5, 7)</td>\n",
       "      <td>[0.7866571619779184, 0.8522749899115892, 0.841...</td>\n",
       "      <td>0.80469</td>\n",
       "      <td>(1, 3, 5, 7)</td>\n",
       "      <td>0.060281</td>\n",
       "      <td>0.046901</td>\n",
       "      <td>0.02345</td>\n",
       "    </tr>\n",
       "    <tr>\n",
       "      <th>5</th>\n",
       "      <td>(1, 2, 3, 5, 7)</td>\n",
       "      <td>[0.778340655585379, 0.8567054305403201, 0.8408...</td>\n",
       "      <td>0.804508</td>\n",
       "      <td>(1, 2, 3, 5, 7)</td>\n",
       "      <td>0.057583</td>\n",
       "      <td>0.044802</td>\n",
       "      <td>0.022401</td>\n",
       "    </tr>\n",
       "    <tr>\n",
       "      <th>8</th>\n",
       "      <td>(0, 1, 2, 3, 4, 5, 6, 7)</td>\n",
       "      <td>[0.7812530696245651, 0.8606342537410732, 0.830...</td>\n",
       "      <td>0.803466</td>\n",
       "      <td>(0, 1, 2, 3, 4, 5, 6, 7)</td>\n",
       "      <td>0.054409</td>\n",
       "      <td>0.042332</td>\n",
       "      <td>0.021166</td>\n",
       "    </tr>\n",
       "    <tr>\n",
       "      <th>3</th>\n",
       "      <td>(3, 5, 7)</td>\n",
       "      <td>[0.7843670441663831, 0.8511668655447293, 0.842...</td>\n",
       "      <td>0.803129</td>\n",
       "      <td>(3, 5, 7)</td>\n",
       "      <td>0.064773</td>\n",
       "      <td>0.050396</td>\n",
       "      <td>0.025198</td>\n",
       "    </tr>\n",
       "    <tr>\n",
       "      <th>2</th>\n",
       "      <td>(3, 5)</td>\n",
       "      <td>[0.7634077609445117, 0.8444719967576287, 0.822...</td>\n",
       "      <td>0.795358</td>\n",
       "      <td>(3, 5)</td>\n",
       "      <td>0.050314</td>\n",
       "      <td>0.039146</td>\n",
       "      <td>0.019573</td>\n",
       "    </tr>\n",
       "    <tr>\n",
       "      <th>1</th>\n",
       "      <td>(3,)</td>\n",
       "      <td>[0.6508840318274423, 0.7345977053745474, 0.709...</td>\n",
       "      <td>0.669225</td>\n",
       "      <td>(3,)</td>\n",
       "      <td>0.068691</td>\n",
       "      <td>0.053444</td>\n",
       "      <td>0.026722</td>\n",
       "    </tr>\n",
       "  </tbody>\n",
       "</table>\n",
       "</div>"
      ],
      "text/plain": [
       "                feature_idx  \\\n",
       "6        (0, 1, 2, 3, 5, 7)   \n",
       "7     (0, 1, 2, 3, 4, 5, 7)   \n",
       "4              (1, 3, 5, 7)   \n",
       "5           (1, 2, 3, 5, 7)   \n",
       "8  (0, 1, 2, 3, 4, 5, 6, 7)   \n",
       "3                 (3, 5, 7)   \n",
       "2                    (3, 5)   \n",
       "1                      (3,)   \n",
       "\n",
       "                                           cv_scores avg_score  \\\n",
       "6  [0.7835178452190474, 0.8600411327798839, 0.829...  0.805041   \n",
       "7  [0.7822527084546411, 0.8605730834486897, 0.830...  0.804752   \n",
       "4  [0.7866571619779184, 0.8522749899115892, 0.841...   0.80469   \n",
       "5  [0.778340655585379, 0.8567054305403201, 0.8408...  0.804508   \n",
       "8  [0.7812530696245651, 0.8606342537410732, 0.830...  0.803466   \n",
       "3  [0.7843670441663831, 0.8511668655447293, 0.842...  0.803129   \n",
       "2  [0.7634077609445117, 0.8444719967576287, 0.822...  0.795358   \n",
       "1  [0.6508840318274423, 0.7345977053745474, 0.709...  0.669225   \n",
       "\n",
       "              feature_names  ci_bound   std_dev   std_err  \n",
       "6        (0, 1, 2, 3, 5, 7)  0.053252  0.041432  0.020716  \n",
       "7     (0, 1, 2, 3, 4, 5, 7)  0.053058  0.041281   0.02064  \n",
       "4              (1, 3, 5, 7)  0.060281  0.046901   0.02345  \n",
       "5           (1, 2, 3, 5, 7)  0.057583  0.044802  0.022401  \n",
       "8  (0, 1, 2, 3, 4, 5, 6, 7)  0.054409  0.042332  0.021166  \n",
       "3                 (3, 5, 7)  0.064773  0.050396  0.025198  \n",
       "2                    (3, 5)  0.050314  0.039146  0.019573  \n",
       "1                      (3,)  0.068691  0.053444  0.026722  "
      ]
     },
     "execution_count": 58,
     "metadata": {},
     "output_type": "execute_result"
    }
   ],
   "source": [
    "sfs_results = pd.DataFrame.from_dict(sfs.get_metric_dict()).T\n",
    "sfs_results.sort_values(by='avg_score', ascending=False, inplace=True)\n",
    "sfs_results"
   ]
  },
  {
   "cell_type": "markdown",
   "id": "d4e86fc2",
   "metadata": {},
   "source": [
    "# 3. Tree Regressor\n",
    "### 3.1. Avec Holdout"
   ]
  },
  {
   "cell_type": "code",
   "execution_count": 60,
   "id": "d1e1f8cc",
   "metadata": {},
   "outputs": [
    {
     "name": "stdout",
     "output_type": "stream",
     "text": [
      "MSE : 12.805\n"
     ]
    }
   ],
   "source": [
    "model = DecisionTreeRegressor(random_state=0)\n",
    "model.fit(X_train,y_train)\n",
    "#prédire test set\n",
    "yhat_tree = model.predict(X_test)\n",
    "#évaluer les predictions\n",
    "score = mean_squared_error(y_test, yhat_tree)\n",
    "print('MSE : %.3f' %score)"
   ]
  },
  {
   "cell_type": "markdown",
   "id": "086bf620",
   "metadata": {},
   "source": [
    "### 3.2. Avec validation croisée"
   ]
  },
  {
   "cell_type": "code",
   "execution_count": 62,
   "id": "6c1a7416",
   "metadata": {},
   "outputs": [
    {
     "name": "stdout",
     "output_type": "stream",
     "text": [
      "mean cross validation score: -16.599129503407987\n"
     ]
    }
   ],
   "source": [
    "dt = DecisionTreeRegressor(random_state=0)\n",
    "dt_fit = dt.fit(X, y)\n",
    "dt_scores = cross_val_score(dt_fit, X, y, cv = 5,\n",
    "scoring='neg_mean_squared_error')\n",
    "print(\"mean cross validation score: {}\".format(np.mean(dt_scores)))"
   ]
  },
  {
   "cell_type": "markdown",
   "id": "7852dd91",
   "metadata": {},
   "source": [
    "### 3.3. Avec validation croisée et grid search"
   ]
  },
  {
   "cell_type": "code",
   "execution_count": 66,
   "id": "4437ca11",
   "metadata": {},
   "outputs": [
    {
     "data": {
      "text/plain": [
       "GridSearchCV(cv=5, estimator=DecisionTreeRegressor(), n_jobs=-1,\n",
       "             param_grid={'max_depth': (20, 30, 50),\n",
       "                         'min_samples_split': range(2, 10)},\n",
       "             scoring='neg_mean_squared_error')"
      ]
     },
     "execution_count": 66,
     "metadata": {},
     "output_type": "execute_result"
    }
   ],
   "source": [
    "#cv and grid search\n",
    "model = DecisionTreeRegressor()\n",
    "parameter_space = {\n",
    "'min_samples_split': range(2, 10),\n",
    "'max_depth': (20, 30, 50)\n",
    "}\n",
    "reg = GridSearchCV(model, parameter_space, scoring =\n",
    "'neg_mean_squared_error', cv=5, n_jobs=-1)\n",
    "reg.fit(X, y)"
   ]
  },
  {
   "cell_type": "code",
   "execution_count": 67,
   "id": "6229ad4b",
   "metadata": {},
   "outputs": [
    {
     "name": "stdout",
     "output_type": "stream",
     "text": [
      "Best score: 15.502671 using {'max_depth': 20, 'min_samples_split': 6}\n",
      "Best estimator:  DecisionTreeRegressor(max_depth=20, min_samples_split=6)\n"
     ]
    }
   ],
   "source": [
    "# Afficher les resultats\n",
    "print(\"Best score: %f using %s\" % (abs(reg.best_score_), reg.best_params_))\n",
    "print(\"Best estimator: \",reg.best_estimator_)"
   ]
  },
  {
   "cell_type": "markdown",
   "id": "b26e65b6",
   "metadata": {},
   "source": [
    "# 4. SVR"
   ]
  },
  {
   "cell_type": "code",
   "execution_count": 70,
   "id": "e879ce7f",
   "metadata": {},
   "outputs": [
    {
     "name": "stdout",
     "output_type": "stream",
     "text": [
      "MSE : 15.310\n"
     ]
    }
   ],
   "source": [
    "# Entrainement et test du model\n",
    "model = SVR(C=1.0, epsilon=0.2)\n",
    "model.fit(X_train, y_train)\n",
    "yhat_SVR = model.predict(X_test)\n",
    "#évaluer les predictions\n",
    "score = mean_squared_error(y_test, yhat_SVR)\n",
    "print('MSE : %.3f' %score)"
   ]
  },
  {
   "cell_type": "code",
   "execution_count": 89,
   "id": "6d0983f6",
   "metadata": {},
   "outputs": [
    {
     "data": {
      "text/plain": [
       "GridSearchCV(cv=5, estimator=SVR(), n_jobs=-1,\n",
       "             param_grid={'C': (1, 10), 'epsilon': [0.1, 0.5, 0.3],\n",
       "                         'gamma': (0.01, 0.0001)},\n",
       "             scoring='neg_mean_squared_error')"
      ]
     },
     "execution_count": 89,
     "metadata": {},
     "output_type": "execute_result"
    }
   ],
   "source": [
    "#cv and grid search   (changement de parametres)\n",
    "model = SVR()\n",
    "parameter_space = {\n",
    "'gamma': (1e-2, 1e-4),\n",
    "'C': (1, 10),\n",
    "'epsilon':[0.1,0.5,0.3]\n",
    "}\n",
    "reg = GridSearchCV(model, parameter_space, scoring =\n",
    "'neg_mean_squared_error', cv=5, n_jobs=-1)\n",
    "reg.fit(X, y)"
   ]
  },
  {
   "cell_type": "code",
   "execution_count": 90,
   "id": "5150b896",
   "metadata": {},
   "outputs": [
    {
     "name": "stdout",
     "output_type": "stream",
     "text": [
      "Best score: 21.771467 using {'C': 10, 'epsilon': 0.1, 'gamma': 0.0001}\n",
      "Best estimator:  SVR(C=10, gamma=0.0001)\n"
     ]
    }
   ],
   "source": [
    "# Afficher les resultats\n",
    "print(\"Best score: %f using %s\" % (abs(reg.best_score_), reg.best_params_))\n",
    "print(\"Best estimator: \",reg.best_estimator_)"
   ]
  },
  {
   "cell_type": "markdown",
   "id": "e77c6e7e",
   "metadata": {},
   "source": [
    "### 4.1. Feature selection"
   ]
  },
  {
   "cell_type": "code",
   "execution_count": 74,
   "id": "d11fae49",
   "metadata": {},
   "outputs": [
    {
     "name": "stderr",
     "output_type": "stream",
     "text": [
      "Features: 246/246"
     ]
    },
    {
     "name": "stdout",
     "output_type": "stream",
     "text": [
      "Best accuracy score: 0.61\n",
      "Best subset (corresponding names): ('0', '1', '3', '5', '7')\n"
     ]
    }
   ],
   "source": [
    "# with exhaustive fs and cv\n",
    "lr = linear_model.LinearRegression()\n",
    "efs = EFS(estimator=lr, # The Ml model\n",
    "min_features=1,\n",
    "max_features=6,\n",
    "scoring='r2', cv=5)\n",
    "efs = efs.fit(X, y)\n",
    "print('Best accuracy score: %.2f' % efs.best_score_) # best_score_ shows the best score\n",
    "print('Best subset (corresponding names):', efs.best_feature_names_)"
   ]
  },
  {
   "cell_type": "code",
   "execution_count": 75,
   "id": "3cdfd770",
   "metadata": {},
   "outputs": [
    {
     "data": {
      "text/html": [
       "<div>\n",
       "<style scoped>\n",
       "    .dataframe tbody tr th:only-of-type {\n",
       "        vertical-align: middle;\n",
       "    }\n",
       "\n",
       "    .dataframe tbody tr th {\n",
       "        vertical-align: top;\n",
       "    }\n",
       "\n",
       "    .dataframe thead th {\n",
       "        text-align: right;\n",
       "    }\n",
       "</style>\n",
       "<table border=\"1\" class=\"dataframe\">\n",
       "  <thead>\n",
       "    <tr style=\"text-align: right;\">\n",
       "      <th></th>\n",
       "      <th>feature_idx</th>\n",
       "      <th>cv_scores</th>\n",
       "      <th>avg_score</th>\n",
       "      <th>feature_names</th>\n",
       "      <th>ci_bound</th>\n",
       "      <th>std_dev</th>\n",
       "      <th>std_err</th>\n",
       "    </tr>\n",
       "  </thead>\n",
       "  <tbody>\n",
       "    <tr>\n",
       "      <th>176</th>\n",
       "      <td>(0, 1, 3, 5, 7)</td>\n",
       "      <td>[0.6175341709646536, 0.7177781924026385, 0.818...</td>\n",
       "      <td>0.612803</td>\n",
       "      <td>(0, 1, 3, 5, 7)</td>\n",
       "      <td>0.255004</td>\n",
       "      <td>0.198402</td>\n",
       "      <td>0.099201</td>\n",
       "    </tr>\n",
       "    <tr>\n",
       "      <th>231</th>\n",
       "      <td>(0, 1, 3, 5, 6, 7)</td>\n",
       "      <td>[0.6167586204945359, 0.7172780140016961, 0.814...</td>\n",
       "      <td>0.612366</td>\n",
       "      <td>(0, 1, 3, 5, 6, 7)</td>\n",
       "      <td>0.252221</td>\n",
       "      <td>0.196237</td>\n",
       "      <td>0.098118</td>\n",
       "    </tr>\n",
       "    <tr>\n",
       "      <th>141</th>\n",
       "      <td>(1, 3, 5, 7)</td>\n",
       "      <td>[0.6076858560321196, 0.715538660313749, 0.8145...</td>\n",
       "      <td>0.607405</td>\n",
       "      <td>(1, 3, 5, 7)</td>\n",
       "      <td>0.25723</td>\n",
       "      <td>0.200134</td>\n",
       "      <td>0.100067</td>\n",
       "    </tr>\n",
       "    <tr>\n",
       "      <th>210</th>\n",
       "      <td>(1, 3, 5, 6, 7)</td>\n",
       "      <td>[0.6069874778089747, 0.7149202841227822, 0.810...</td>\n",
       "      <td>0.606864</td>\n",
       "      <td>(1, 3, 5, 6, 7)</td>\n",
       "      <td>0.254587</td>\n",
       "      <td>0.198077</td>\n",
       "      <td>0.099039</td>\n",
       "    </tr>\n",
       "    <tr>\n",
       "      <th>175</th>\n",
       "      <td>(0, 1, 3, 5, 6)</td>\n",
       "      <td>[0.5972565993477861, 0.7092216475048159, 0.832...</td>\n",
       "      <td>0.604514</td>\n",
       "      <td>(0, 1, 3, 5, 6)</td>\n",
       "      <td>0.27858</td>\n",
       "      <td>0.216744</td>\n",
       "      <td>0.108372</td>\n",
       "    </tr>\n",
       "    <tr>\n",
       "      <th>...</th>\n",
       "      <td>...</td>\n",
       "      <td>...</td>\n",
       "      <td>...</td>\n",
       "      <td>...</td>\n",
       "      <td>...</td>\n",
       "      <td>...</td>\n",
       "      <td>...</td>\n",
       "    </tr>\n",
       "    <tr>\n",
       "      <th>31</th>\n",
       "      <td>(4, 6)</td>\n",
       "      <td>[0.13085079193510007, -0.12082308231801675, 0....</td>\n",
       "      <td>-0.299652</td>\n",
       "      <td>(4, 6)</td>\n",
       "      <td>0.774024</td>\n",
       "      <td>0.602217</td>\n",
       "      <td>0.301109</td>\n",
       "    </tr>\n",
       "    <tr>\n",
       "      <th>35</th>\n",
       "      <td>(6, 7)</td>\n",
       "      <td>[-0.1379054134560136, -0.0751527659083091, 0.2...</td>\n",
       "      <td>-0.349802</td>\n",
       "      <td>(6, 7)</td>\n",
       "      <td>0.937193</td>\n",
       "      <td>0.729168</td>\n",
       "      <td>0.364584</td>\n",
       "    </tr>\n",
       "    <tr>\n",
       "      <th>7</th>\n",
       "      <td>(7,)</td>\n",
       "      <td>[-0.17361402205846388, -0.0668728839858912, 0....</td>\n",
       "      <td>-0.385243</td>\n",
       "      <td>(7,)</td>\n",
       "      <td>0.97395</td>\n",
       "      <td>0.757766</td>\n",
       "      <td>0.378883</td>\n",
       "    </tr>\n",
       "    <tr>\n",
       "      <th>6</th>\n",
       "      <td>(6,)</td>\n",
       "      <td>[-0.5097223525808423, -0.4043920394537186, 0.1...</td>\n",
       "      <td>-0.573681</td>\n",
       "      <td>(6,)</td>\n",
       "      <td>0.99572</td>\n",
       "      <td>0.774704</td>\n",
       "      <td>0.387352</td>\n",
       "    </tr>\n",
       "    <tr>\n",
       "      <th>4</th>\n",
       "      <td>(4,)</td>\n",
       "      <td>[-0.18829687274996143, -0.3003691764315439, -0...</td>\n",
       "      <td>-0.644685</td>\n",
       "      <td>(4,)</td>\n",
       "      <td>1.116668</td>\n",
       "      <td>0.868805</td>\n",
       "      <td>0.434403</td>\n",
       "    </tr>\n",
       "  </tbody>\n",
       "</table>\n",
       "<p>246 rows × 7 columns</p>\n",
       "</div>"
      ],
      "text/plain": [
       "            feature_idx                                          cv_scores  \\\n",
       "176     (0, 1, 3, 5, 7)  [0.6175341709646536, 0.7177781924026385, 0.818...   \n",
       "231  (0, 1, 3, 5, 6, 7)  [0.6167586204945359, 0.7172780140016961, 0.814...   \n",
       "141        (1, 3, 5, 7)  [0.6076858560321196, 0.715538660313749, 0.8145...   \n",
       "210     (1, 3, 5, 6, 7)  [0.6069874778089747, 0.7149202841227822, 0.810...   \n",
       "175     (0, 1, 3, 5, 6)  [0.5972565993477861, 0.7092216475048159, 0.832...   \n",
       "..                  ...                                                ...   \n",
       "31               (4, 6)  [0.13085079193510007, -0.12082308231801675, 0....   \n",
       "35               (6, 7)  [-0.1379054134560136, -0.0751527659083091, 0.2...   \n",
       "7                  (7,)  [-0.17361402205846388, -0.0668728839858912, 0....   \n",
       "6                  (6,)  [-0.5097223525808423, -0.4043920394537186, 0.1...   \n",
       "4                  (4,)  [-0.18829687274996143, -0.3003691764315439, -0...   \n",
       "\n",
       "    avg_score       feature_names  ci_bound   std_dev   std_err  \n",
       "176  0.612803     (0, 1, 3, 5, 7)  0.255004  0.198402  0.099201  \n",
       "231  0.612366  (0, 1, 3, 5, 6, 7)  0.252221  0.196237  0.098118  \n",
       "141  0.607405        (1, 3, 5, 7)   0.25723  0.200134  0.100067  \n",
       "210  0.606864     (1, 3, 5, 6, 7)  0.254587  0.198077  0.099039  \n",
       "175  0.604514     (0, 1, 3, 5, 6)   0.27858  0.216744  0.108372  \n",
       "..        ...                 ...       ...       ...       ...  \n",
       "31  -0.299652              (4, 6)  0.774024  0.602217  0.301109  \n",
       "35  -0.349802              (6, 7)  0.937193  0.729168  0.364584  \n",
       "7   -0.385243                (7,)   0.97395  0.757766  0.378883  \n",
       "6   -0.573681                (6,)   0.99572  0.774704  0.387352  \n",
       "4   -0.644685                (4,)  1.116668  0.868805  0.434403  \n",
       "\n",
       "[246 rows x 7 columns]"
      ]
     },
     "execution_count": 75,
     "metadata": {},
     "output_type": "execute_result"
    }
   ],
   "source": [
    "# Show the performance of each subset of features\n",
    "efs_results = pd.DataFrame.from_dict(efs.get_metric_dict()).T\n",
    "efs_results.sort_values(by='avg_score', ascending=False, inplace=True)\n",
    "efs_results"
   ]
  },
  {
   "cell_type": "code",
   "execution_count": 78,
   "id": "649a03e8",
   "metadata": {},
   "outputs": [],
   "source": [
    "#Transformer le dataset pour garder seulement les attributs sélectionnés\n",
    "X_train_efs = efs.transform(X_train)\n",
    "X_test_efs = efs.transform(X_test)"
   ]
  },
  {
   "cell_type": "code",
   "execution_count": 79,
   "id": "44c7089f",
   "metadata": {},
   "outputs": [
    {
     "name": "stdout",
     "output_type": "stream",
     "text": [
      "R2 : 0.727\n"
     ]
    }
   ],
   "source": [
    "# Entrainer le modèle de régression sur les données d'entrainements réduites\n",
    "model_SVR = SVR()\n",
    "model_SVR.fit(X_train_efs, y_train)\n",
    "#Prédiction sur les données de test\n",
    "y_pred = model_SVR.predict(X_test_efs)\n",
    "#évaluer les predictions\n",
    "score =r2_score(y_test, y_pred)\n",
    "print('R2 : %.3f' %score)"
   ]
  },
  {
   "cell_type": "code",
   "execution_count": 81,
   "id": "125baf2d",
   "metadata": {},
   "outputs": [
    {
     "name": "stderr",
     "output_type": "stream",
     "text": [
      "Features: 246/246"
     ]
    },
    {
     "data": {
      "text/plain": [
       "0.7276042297120742"
      ]
     },
     "execution_count": 81,
     "metadata": {},
     "output_type": "execute_result"
    }
   ],
   "source": [
    "clf = Pipeline([\n",
    "('feature_selection', EFS(linear_model.LinearRegression(), scoring='r2',\n",
    "max_features=6, cv=5)),\n",
    "('classification', SVR())\n",
    "])\n",
    "clf.fit(X_train, y_train)\n",
    "clf.score(X_test, y_test)"
   ]
  },
  {
   "cell_type": "markdown",
   "id": "48dafc2a",
   "metadata": {},
   "source": [
    "# 5. MLP regressor"
   ]
  },
  {
   "cell_type": "code",
   "execution_count": 97,
   "id": "e14e61a5",
   "metadata": {},
   "outputs": [
    {
     "name": "stdout",
     "output_type": "stream",
     "text": [
      "MSE : 56.238\n",
      "MAE : 6.492\n",
      "R2 : -0.010\n"
     ]
    }
   ],
   "source": [
    " # On cree et test le model\n",
    "model = MLPRegressor(hidden_layer_sizes={100, 200,10}, activation='relu',\n",
    "solver='adam', max_iter= 5000)\n",
    "model.fit(X_train, y_train)\n",
    "yhat_MLP = model.predict(X_test)\n",
    "#évaluer les predictions\n",
    "score = mean_squared_error(y_test, yhat_MLP)\n",
    "print('MSE : %.3f' %score)\n",
    "\n",
    "score_ab = mean_absolute_error(y_test, yhat_MLP)\n",
    "print('MAE : %.3f' %score_ab)\n",
    "\n",
    "R2 = r2_score(y_test, yhat_MLP)\n",
    "print('R2 : %.3f' %R2)"
   ]
  },
  {
   "cell_type": "code",
   "execution_count": 98,
   "id": "b42339da",
   "metadata": {},
   "outputs": [],
   "source": [
    "parameter_space = {\n",
    "'hidden_layer_sizes': [{100},{100, 200,50}, {100,100}],\n",
    "'solver': ['adam', 'sgd'],\n",
    "'batch_size':[200,50],\n",
    "'learning_rate':[0.001, 0.0001,'adaptive']\n",
    "}"
   ]
  },
  {
   "cell_type": "code",
   "execution_count": 99,
   "id": "67521edd",
   "metadata": {
    "scrolled": true
   },
   "outputs": [
    {
     "name": "stderr",
     "output_type": "stream",
     "text": [
      "/home/olivier/anaconda3/lib/python3.9/site-packages/sklearn/neural_network/_base.py:174: RuntimeWarning: overflow encountered in square\n",
      "  return ((y_true - y_pred) ** 2).mean() / 2\n",
      "/home/olivier/anaconda3/lib/python3.9/site-packages/sklearn/utils/extmath.py:153: RuntimeWarning: overflow encountered in matmul\n",
      "  ret = a @ b\n",
      "/home/olivier/anaconda3/lib/python3.9/site-packages/sklearn/utils/extmath.py:153: RuntimeWarning: invalid value encountered in matmul\n",
      "  ret = a @ b\n",
      "/home/olivier/anaconda3/lib/python3.9/site-packages/sklearn/neural_network/_base.py:174: RuntimeWarning: overflow encountered in square\n",
      "  return ((y_true - y_pred) ** 2).mean() / 2\n",
      "/home/olivier/anaconda3/lib/python3.9/site-packages/sklearn/utils/extmath.py:153: RuntimeWarning: overflow encountered in matmul\n",
      "  ret = a @ b\n",
      "/home/olivier/anaconda3/lib/python3.9/site-packages/sklearn/utils/extmath.py:153: RuntimeWarning: invalid value encountered in matmul\n",
      "  ret = a @ b\n",
      "/home/olivier/anaconda3/lib/python3.9/site-packages/sklearn/neural_network/_base.py:174: RuntimeWarning: overflow encountered in square\n",
      "  return ((y_true - y_pred) ** 2).mean() / 2\n",
      "/home/olivier/anaconda3/lib/python3.9/site-packages/sklearn/utils/extmath.py:153: RuntimeWarning: overflow encountered in matmul\n",
      "  ret = a @ b\n",
      "/home/olivier/anaconda3/lib/python3.9/site-packages/sklearn/utils/extmath.py:153: RuntimeWarning: invalid value encountered in matmul\n",
      "  ret = a @ b\n",
      "/home/olivier/anaconda3/lib/python3.9/site-packages/sklearn/utils/extmath.py:153: RuntimeWarning: overflow encountered in matmul\n",
      "  ret = a @ b\n",
      "/home/olivier/anaconda3/lib/python3.9/site-packages/sklearn/utils/extmath.py:153: RuntimeWarning: invalid value encountered in matmul\n",
      "  ret = a @ b\n",
      "/home/olivier/anaconda3/lib/python3.9/site-packages/sklearn/neural_network/_multilayer_perceptron.py:692: ConvergenceWarning: Stochastic Optimizer: Maximum iterations (5000) reached and the optimization hasn't converged yet.\n",
      "  warnings.warn(\n",
      "/home/olivier/anaconda3/lib/python3.9/site-packages/sklearn/model_selection/_validation.py:770: UserWarning: Scoring failed. The score on this train-test partition for these parameters will be set to nan. Details: \n",
      "Traceback (most recent call last):\n",
      "  File \"/home/olivier/anaconda3/lib/python3.9/site-packages/sklearn/model_selection/_validation.py\", line 761, in _score\n",
      "    scores = scorer(estimator, X_test, y_test)\n",
      "  File \"/home/olivier/anaconda3/lib/python3.9/site-packages/sklearn/metrics/_scorer.py\", line 216, in __call__\n",
      "    return self._score(\n",
      "  File \"/home/olivier/anaconda3/lib/python3.9/site-packages/sklearn/metrics/_scorer.py\", line 264, in _score\n",
      "    return self._sign * self._score_func(y_true, y_pred, **self._kwargs)\n",
      "  File \"/home/olivier/anaconda3/lib/python3.9/site-packages/sklearn/metrics/_regression.py\", line 438, in mean_squared_error\n",
      "    y_type, y_true, y_pred, multioutput = _check_reg_targets(\n",
      "  File \"/home/olivier/anaconda3/lib/python3.9/site-packages/sklearn/metrics/_regression.py\", line 96, in _check_reg_targets\n",
      "    y_pred = check_array(y_pred, ensure_2d=False, dtype=dtype)\n",
      "  File \"/home/olivier/anaconda3/lib/python3.9/site-packages/sklearn/utils/validation.py\", line 800, in check_array\n",
      "    _assert_all_finite(array, allow_nan=force_all_finite == \"allow-nan\")\n",
      "  File \"/home/olivier/anaconda3/lib/python3.9/site-packages/sklearn/utils/validation.py\", line 114, in _assert_all_finite\n",
      "    raise ValueError(\n",
      "ValueError: Input contains NaN, infinity or a value too large for dtype('float64').\n",
      "\n",
      "  warnings.warn(\n",
      "/home/olivier/anaconda3/lib/python3.9/site-packages/sklearn/neural_network/_base.py:174: RuntimeWarning: overflow encountered in square\n",
      "  return ((y_true - y_pred) ** 2).mean() / 2\n",
      "/home/olivier/anaconda3/lib/python3.9/site-packages/sklearn/utils/extmath.py:153: RuntimeWarning: overflow encountered in matmul\n",
      "  ret = a @ b\n",
      "/home/olivier/anaconda3/lib/python3.9/site-packages/sklearn/utils/extmath.py:153: RuntimeWarning: invalid value encountered in matmul\n",
      "  ret = a @ b\n",
      "/home/olivier/anaconda3/lib/python3.9/site-packages/sklearn/neural_network/_multilayer_perceptron.py:692: ConvergenceWarning: Stochastic Optimizer: Maximum iterations (5000) reached and the optimization hasn't converged yet.\n",
      "  warnings.warn(\n",
      "/home/olivier/anaconda3/lib/python3.9/site-packages/sklearn/model_selection/_validation.py:770: UserWarning: Scoring failed. The score on this train-test partition for these parameters will be set to nan. Details: \n",
      "Traceback (most recent call last):\n",
      "  File \"/home/olivier/anaconda3/lib/python3.9/site-packages/sklearn/model_selection/_validation.py\", line 761, in _score\n",
      "    scores = scorer(estimator, X_test, y_test)\n",
      "  File \"/home/olivier/anaconda3/lib/python3.9/site-packages/sklearn/metrics/_scorer.py\", line 216, in __call__\n",
      "    return self._score(\n",
      "  File \"/home/olivier/anaconda3/lib/python3.9/site-packages/sklearn/metrics/_scorer.py\", line 264, in _score\n",
      "    return self._sign * self._score_func(y_true, y_pred, **self._kwargs)\n",
      "  File \"/home/olivier/anaconda3/lib/python3.9/site-packages/sklearn/metrics/_regression.py\", line 438, in mean_squared_error\n",
      "    y_type, y_true, y_pred, multioutput = _check_reg_targets(\n",
      "  File \"/home/olivier/anaconda3/lib/python3.9/site-packages/sklearn/metrics/_regression.py\", line 96, in _check_reg_targets\n",
      "    y_pred = check_array(y_pred, ensure_2d=False, dtype=dtype)\n",
      "  File \"/home/olivier/anaconda3/lib/python3.9/site-packages/sklearn/utils/validation.py\", line 800, in check_array\n",
      "    _assert_all_finite(array, allow_nan=force_all_finite == \"allow-nan\")\n",
      "  File \"/home/olivier/anaconda3/lib/python3.9/site-packages/sklearn/utils/validation.py\", line 114, in _assert_all_finite\n",
      "    raise ValueError(\n",
      "ValueError: Input contains NaN, infinity or a value too large for dtype('float64').\n",
      "\n",
      "  warnings.warn(\n",
      "/home/olivier/anaconda3/lib/python3.9/site-packages/sklearn/neural_network/_multilayer_perceptron.py:692: ConvergenceWarning: Stochastic Optimizer: Maximum iterations (5000) reached and the optimization hasn't converged yet.\n",
      "  warnings.warn(\n",
      "/home/olivier/anaconda3/lib/python3.9/site-packages/sklearn/model_selection/_validation.py:770: UserWarning: Scoring failed. The score on this train-test partition for these parameters will be set to nan. Details: \n",
      "Traceback (most recent call last):\n",
      "  File \"/home/olivier/anaconda3/lib/python3.9/site-packages/sklearn/model_selection/_validation.py\", line 761, in _score\n",
      "    scores = scorer(estimator, X_test, y_test)\n",
      "  File \"/home/olivier/anaconda3/lib/python3.9/site-packages/sklearn/metrics/_scorer.py\", line 216, in __call__\n",
      "    return self._score(\n",
      "  File \"/home/olivier/anaconda3/lib/python3.9/site-packages/sklearn/metrics/_scorer.py\", line 264, in _score\n",
      "    return self._sign * self._score_func(y_true, y_pred, **self._kwargs)\n",
      "  File \"/home/olivier/anaconda3/lib/python3.9/site-packages/sklearn/metrics/_regression.py\", line 438, in mean_squared_error\n",
      "    y_type, y_true, y_pred, multioutput = _check_reg_targets(\n",
      "  File \"/home/olivier/anaconda3/lib/python3.9/site-packages/sklearn/metrics/_regression.py\", line 96, in _check_reg_targets\n",
      "    y_pred = check_array(y_pred, ensure_2d=False, dtype=dtype)\n",
      "  File \"/home/olivier/anaconda3/lib/python3.9/site-packages/sklearn/utils/validation.py\", line 800, in check_array\n",
      "    _assert_all_finite(array, allow_nan=force_all_finite == \"allow-nan\")\n",
      "  File \"/home/olivier/anaconda3/lib/python3.9/site-packages/sklearn/utils/validation.py\", line 114, in _assert_all_finite\n",
      "    raise ValueError(\n",
      "ValueError: Input contains NaN, infinity or a value too large for dtype('float64').\n",
      "\n",
      "  warnings.warn(\n",
      "/home/olivier/anaconda3/lib/python3.9/site-packages/sklearn/utils/extmath.py:153: RuntimeWarning: overflow encountered in matmul\n",
      "  ret = a @ b\n",
      "/home/olivier/anaconda3/lib/python3.9/site-packages/sklearn/utils/extmath.py:153: RuntimeWarning: invalid value encountered in matmul\n",
      "  ret = a @ b\n",
      "/home/olivier/anaconda3/lib/python3.9/site-packages/sklearn/neural_network/_multilayer_perceptron.py:692: ConvergenceWarning: Stochastic Optimizer: Maximum iterations (5000) reached and the optimization hasn't converged yet.\n",
      "  warnings.warn(\n",
      "/home/olivier/anaconda3/lib/python3.9/site-packages/sklearn/model_selection/_validation.py:770: UserWarning: Scoring failed. The score on this train-test partition for these parameters will be set to nan. Details: \n",
      "Traceback (most recent call last):\n",
      "  File \"/home/olivier/anaconda3/lib/python3.9/site-packages/sklearn/model_selection/_validation.py\", line 761, in _score\n",
      "    scores = scorer(estimator, X_test, y_test)\n",
      "  File \"/home/olivier/anaconda3/lib/python3.9/site-packages/sklearn/metrics/_scorer.py\", line 216, in __call__\n",
      "    return self._score(\n",
      "  File \"/home/olivier/anaconda3/lib/python3.9/site-packages/sklearn/metrics/_scorer.py\", line 264, in _score\n",
      "    return self._sign * self._score_func(y_true, y_pred, **self._kwargs)\n",
      "  File \"/home/olivier/anaconda3/lib/python3.9/site-packages/sklearn/metrics/_regression.py\", line 438, in mean_squared_error\n",
      "    y_type, y_true, y_pred, multioutput = _check_reg_targets(\n",
      "  File \"/home/olivier/anaconda3/lib/python3.9/site-packages/sklearn/metrics/_regression.py\", line 96, in _check_reg_targets\n",
      "    y_pred = check_array(y_pred, ensure_2d=False, dtype=dtype)\n",
      "  File \"/home/olivier/anaconda3/lib/python3.9/site-packages/sklearn/utils/validation.py\", line 800, in check_array\n",
      "    _assert_all_finite(array, allow_nan=force_all_finite == \"allow-nan\")\n",
      "  File \"/home/olivier/anaconda3/lib/python3.9/site-packages/sklearn/utils/validation.py\", line 114, in _assert_all_finite\n",
      "    raise ValueError(\n",
      "ValueError: Input contains NaN, infinity or a value too large for dtype('float64').\n",
      "\n",
      "  warnings.warn(\n",
      "/home/olivier/anaconda3/lib/python3.9/site-packages/sklearn/neural_network/_base.py:174: RuntimeWarning: overflow encountered in square\n",
      "  return ((y_true - y_pred) ** 2).mean() / 2\n",
      "/home/olivier/anaconda3/lib/python3.9/site-packages/sklearn/utils/extmath.py:153: RuntimeWarning: overflow encountered in matmul\n",
      "  ret = a @ b\n",
      "/home/olivier/anaconda3/lib/python3.9/site-packages/sklearn/utils/extmath.py:153: RuntimeWarning: invalid value encountered in matmul\n",
      "  ret = a @ b\n"
     ]
    },
    {
     "name": "stderr",
     "output_type": "stream",
     "text": [
      "/home/olivier/anaconda3/lib/python3.9/site-packages/sklearn/neural_network/_multilayer_perceptron.py:692: ConvergenceWarning: Stochastic Optimizer: Maximum iterations (5000) reached and the optimization hasn't converged yet.\n",
      "  warnings.warn(\n",
      "/home/olivier/anaconda3/lib/python3.9/site-packages/sklearn/model_selection/_validation.py:770: UserWarning: Scoring failed. The score on this train-test partition for these parameters will be set to nan. Details: \n",
      "Traceback (most recent call last):\n",
      "  File \"/home/olivier/anaconda3/lib/python3.9/site-packages/sklearn/model_selection/_validation.py\", line 761, in _score\n",
      "    scores = scorer(estimator, X_test, y_test)\n",
      "  File \"/home/olivier/anaconda3/lib/python3.9/site-packages/sklearn/metrics/_scorer.py\", line 216, in __call__\n",
      "    return self._score(\n",
      "  File \"/home/olivier/anaconda3/lib/python3.9/site-packages/sklearn/metrics/_scorer.py\", line 264, in _score\n",
      "    return self._sign * self._score_func(y_true, y_pred, **self._kwargs)\n",
      "  File \"/home/olivier/anaconda3/lib/python3.9/site-packages/sklearn/metrics/_regression.py\", line 438, in mean_squared_error\n",
      "    y_type, y_true, y_pred, multioutput = _check_reg_targets(\n",
      "  File \"/home/olivier/anaconda3/lib/python3.9/site-packages/sklearn/metrics/_regression.py\", line 96, in _check_reg_targets\n",
      "    y_pred = check_array(y_pred, ensure_2d=False, dtype=dtype)\n",
      "  File \"/home/olivier/anaconda3/lib/python3.9/site-packages/sklearn/utils/validation.py\", line 800, in check_array\n",
      "    _assert_all_finite(array, allow_nan=force_all_finite == \"allow-nan\")\n",
      "  File \"/home/olivier/anaconda3/lib/python3.9/site-packages/sklearn/utils/validation.py\", line 114, in _assert_all_finite\n",
      "    raise ValueError(\n",
      "ValueError: Input contains NaN, infinity or a value too large for dtype('float64').\n",
      "\n",
      "  warnings.warn(\n",
      "/home/olivier/anaconda3/lib/python3.9/site-packages/sklearn/neural_network/_base.py:174: RuntimeWarning: overflow encountered in square\n",
      "  return ((y_true - y_pred) ** 2).mean() / 2\n",
      "/home/olivier/anaconda3/lib/python3.9/site-packages/sklearn/utils/extmath.py:153: RuntimeWarning: overflow encountered in matmul\n",
      "  ret = a @ b\n",
      "/home/olivier/anaconda3/lib/python3.9/site-packages/sklearn/utils/extmath.py:153: RuntimeWarning: invalid value encountered in matmul\n",
      "  ret = a @ b\n",
      "/home/olivier/anaconda3/lib/python3.9/site-packages/sklearn/neural_network/_multilayer_perceptron.py:692: ConvergenceWarning: Stochastic Optimizer: Maximum iterations (5000) reached and the optimization hasn't converged yet.\n",
      "  warnings.warn(\n",
      "/home/olivier/anaconda3/lib/python3.9/site-packages/sklearn/model_selection/_validation.py:770: UserWarning: Scoring failed. The score on this train-test partition for these parameters will be set to nan. Details: \n",
      "Traceback (most recent call last):\n",
      "  File \"/home/olivier/anaconda3/lib/python3.9/site-packages/sklearn/model_selection/_validation.py\", line 761, in _score\n",
      "    scores = scorer(estimator, X_test, y_test)\n",
      "  File \"/home/olivier/anaconda3/lib/python3.9/site-packages/sklearn/metrics/_scorer.py\", line 216, in __call__\n",
      "    return self._score(\n",
      "  File \"/home/olivier/anaconda3/lib/python3.9/site-packages/sklearn/metrics/_scorer.py\", line 264, in _score\n",
      "    return self._sign * self._score_func(y_true, y_pred, **self._kwargs)\n",
      "  File \"/home/olivier/anaconda3/lib/python3.9/site-packages/sklearn/metrics/_regression.py\", line 438, in mean_squared_error\n",
      "    y_type, y_true, y_pred, multioutput = _check_reg_targets(\n",
      "  File \"/home/olivier/anaconda3/lib/python3.9/site-packages/sklearn/metrics/_regression.py\", line 96, in _check_reg_targets\n",
      "    y_pred = check_array(y_pred, ensure_2d=False, dtype=dtype)\n",
      "  File \"/home/olivier/anaconda3/lib/python3.9/site-packages/sklearn/utils/validation.py\", line 800, in check_array\n",
      "    _assert_all_finite(array, allow_nan=force_all_finite == \"allow-nan\")\n",
      "  File \"/home/olivier/anaconda3/lib/python3.9/site-packages/sklearn/utils/validation.py\", line 114, in _assert_all_finite\n",
      "    raise ValueError(\n",
      "ValueError: Input contains NaN, infinity or a value too large for dtype('float64').\n",
      "\n",
      "  warnings.warn(\n",
      "/home/olivier/anaconda3/lib/python3.9/site-packages/sklearn/utils/extmath.py:153: RuntimeWarning: overflow encountered in matmul\n",
      "  ret = a @ b\n",
      "/home/olivier/anaconda3/lib/python3.9/site-packages/sklearn/utils/extmath.py:153: RuntimeWarning: invalid value encountered in matmul\n",
      "  ret = a @ b\n",
      "/home/olivier/anaconda3/lib/python3.9/site-packages/sklearn/neural_network/_multilayer_perceptron.py:692: ConvergenceWarning: Stochastic Optimizer: Maximum iterations (5000) reached and the optimization hasn't converged yet.\n",
      "  warnings.warn(\n",
      "/home/olivier/anaconda3/lib/python3.9/site-packages/sklearn/model_selection/_validation.py:770: UserWarning: Scoring failed. The score on this train-test partition for these parameters will be set to nan. Details: \n",
      "Traceback (most recent call last):\n",
      "  File \"/home/olivier/anaconda3/lib/python3.9/site-packages/sklearn/model_selection/_validation.py\", line 761, in _score\n",
      "    scores = scorer(estimator, X_test, y_test)\n",
      "  File \"/home/olivier/anaconda3/lib/python3.9/site-packages/sklearn/metrics/_scorer.py\", line 216, in __call__\n",
      "    return self._score(\n",
      "  File \"/home/olivier/anaconda3/lib/python3.9/site-packages/sklearn/metrics/_scorer.py\", line 264, in _score\n",
      "    return self._sign * self._score_func(y_true, y_pred, **self._kwargs)\n",
      "  File \"/home/olivier/anaconda3/lib/python3.9/site-packages/sklearn/metrics/_regression.py\", line 438, in mean_squared_error\n",
      "    y_type, y_true, y_pred, multioutput = _check_reg_targets(\n",
      "  File \"/home/olivier/anaconda3/lib/python3.9/site-packages/sklearn/metrics/_regression.py\", line 96, in _check_reg_targets\n",
      "    y_pred = check_array(y_pred, ensure_2d=False, dtype=dtype)\n",
      "  File \"/home/olivier/anaconda3/lib/python3.9/site-packages/sklearn/utils/validation.py\", line 800, in check_array\n",
      "    _assert_all_finite(array, allow_nan=force_all_finite == \"allow-nan\")\n",
      "  File \"/home/olivier/anaconda3/lib/python3.9/site-packages/sklearn/utils/validation.py\", line 114, in _assert_all_finite\n",
      "    raise ValueError(\n",
      "ValueError: Input contains NaN, infinity or a value too large for dtype('float64').\n",
      "\n",
      "  warnings.warn(\n",
      "/home/olivier/anaconda3/lib/python3.9/site-packages/sklearn/neural_network/_multilayer_perceptron.py:692: ConvergenceWarning: Stochastic Optimizer: Maximum iterations (5000) reached and the optimization hasn't converged yet.\n",
      "  warnings.warn(\n",
      "/home/olivier/anaconda3/lib/python3.9/site-packages/sklearn/model_selection/_validation.py:770: UserWarning: Scoring failed. The score on this train-test partition for these parameters will be set to nan. Details: \n",
      "Traceback (most recent call last):\n",
      "  File \"/home/olivier/anaconda3/lib/python3.9/site-packages/sklearn/model_selection/_validation.py\", line 761, in _score\n",
      "    scores = scorer(estimator, X_test, y_test)\n",
      "  File \"/home/olivier/anaconda3/lib/python3.9/site-packages/sklearn/metrics/_scorer.py\", line 216, in __call__\n",
      "    return self._score(\n",
      "  File \"/home/olivier/anaconda3/lib/python3.9/site-packages/sklearn/metrics/_scorer.py\", line 264, in _score\n",
      "    return self._sign * self._score_func(y_true, y_pred, **self._kwargs)\n",
      "  File \"/home/olivier/anaconda3/lib/python3.9/site-packages/sklearn/metrics/_regression.py\", line 438, in mean_squared_error\n",
      "    y_type, y_true, y_pred, multioutput = _check_reg_targets(\n",
      "  File \"/home/olivier/anaconda3/lib/python3.9/site-packages/sklearn/metrics/_regression.py\", line 96, in _check_reg_targets\n",
      "    y_pred = check_array(y_pred, ensure_2d=False, dtype=dtype)\n",
      "  File \"/home/olivier/anaconda3/lib/python3.9/site-packages/sklearn/utils/validation.py\", line 800, in check_array\n",
      "    _assert_all_finite(array, allow_nan=force_all_finite == \"allow-nan\")\n",
      "  File \"/home/olivier/anaconda3/lib/python3.9/site-packages/sklearn/utils/validation.py\", line 114, in _assert_all_finite\n",
      "    raise ValueError(\n",
      "ValueError: Input contains NaN, infinity or a value too large for dtype('float64').\n",
      "\n",
      "  warnings.warn(\n",
      "/home/olivier/anaconda3/lib/python3.9/site-packages/sklearn/utils/extmath.py:153: RuntimeWarning: overflow encountered in matmul\n",
      "  ret = a @ b\n",
      "/home/olivier/anaconda3/lib/python3.9/site-packages/sklearn/utils/extmath.py:153: RuntimeWarning: invalid value encountered in matmul\n",
      "  ret = a @ b\n"
     ]
    },
    {
     "name": "stderr",
     "output_type": "stream",
     "text": [
      "/home/olivier/anaconda3/lib/python3.9/site-packages/sklearn/neural_network/_multilayer_perceptron.py:692: ConvergenceWarning: Stochastic Optimizer: Maximum iterations (5000) reached and the optimization hasn't converged yet.\n",
      "  warnings.warn(\n",
      "/home/olivier/anaconda3/lib/python3.9/site-packages/sklearn/model_selection/_validation.py:770: UserWarning: Scoring failed. The score on this train-test partition for these parameters will be set to nan. Details: \n",
      "Traceback (most recent call last):\n",
      "  File \"/home/olivier/anaconda3/lib/python3.9/site-packages/sklearn/model_selection/_validation.py\", line 761, in _score\n",
      "    scores = scorer(estimator, X_test, y_test)\n",
      "  File \"/home/olivier/anaconda3/lib/python3.9/site-packages/sklearn/metrics/_scorer.py\", line 216, in __call__\n",
      "    return self._score(\n",
      "  File \"/home/olivier/anaconda3/lib/python3.9/site-packages/sklearn/metrics/_scorer.py\", line 264, in _score\n",
      "    return self._sign * self._score_func(y_true, y_pred, **self._kwargs)\n",
      "  File \"/home/olivier/anaconda3/lib/python3.9/site-packages/sklearn/metrics/_regression.py\", line 438, in mean_squared_error\n",
      "    y_type, y_true, y_pred, multioutput = _check_reg_targets(\n",
      "  File \"/home/olivier/anaconda3/lib/python3.9/site-packages/sklearn/metrics/_regression.py\", line 96, in _check_reg_targets\n",
      "    y_pred = check_array(y_pred, ensure_2d=False, dtype=dtype)\n",
      "  File \"/home/olivier/anaconda3/lib/python3.9/site-packages/sklearn/utils/validation.py\", line 800, in check_array\n",
      "    _assert_all_finite(array, allow_nan=force_all_finite == \"allow-nan\")\n",
      "  File \"/home/olivier/anaconda3/lib/python3.9/site-packages/sklearn/utils/validation.py\", line 114, in _assert_all_finite\n",
      "    raise ValueError(\n",
      "ValueError: Input contains NaN, infinity or a value too large for dtype('float64').\n",
      "\n",
      "  warnings.warn(\n",
      "/home/olivier/anaconda3/lib/python3.9/site-packages/sklearn/neural_network/_multilayer_perceptron.py:692: ConvergenceWarning: Stochastic Optimizer: Maximum iterations (5000) reached and the optimization hasn't converged yet.\n",
      "  warnings.warn(\n",
      "/home/olivier/anaconda3/lib/python3.9/site-packages/sklearn/model_selection/_validation.py:770: UserWarning: Scoring failed. The score on this train-test partition for these parameters will be set to nan. Details: \n",
      "Traceback (most recent call last):\n",
      "  File \"/home/olivier/anaconda3/lib/python3.9/site-packages/sklearn/model_selection/_validation.py\", line 761, in _score\n",
      "    scores = scorer(estimator, X_test, y_test)\n",
      "  File \"/home/olivier/anaconda3/lib/python3.9/site-packages/sklearn/metrics/_scorer.py\", line 216, in __call__\n",
      "    return self._score(\n",
      "  File \"/home/olivier/anaconda3/lib/python3.9/site-packages/sklearn/metrics/_scorer.py\", line 264, in _score\n",
      "    return self._sign * self._score_func(y_true, y_pred, **self._kwargs)\n",
      "  File \"/home/olivier/anaconda3/lib/python3.9/site-packages/sklearn/metrics/_regression.py\", line 438, in mean_squared_error\n",
      "    y_type, y_true, y_pred, multioutput = _check_reg_targets(\n",
      "  File \"/home/olivier/anaconda3/lib/python3.9/site-packages/sklearn/metrics/_regression.py\", line 96, in _check_reg_targets\n",
      "    y_pred = check_array(y_pred, ensure_2d=False, dtype=dtype)\n",
      "  File \"/home/olivier/anaconda3/lib/python3.9/site-packages/sklearn/utils/validation.py\", line 800, in check_array\n",
      "    _assert_all_finite(array, allow_nan=force_all_finite == \"allow-nan\")\n",
      "  File \"/home/olivier/anaconda3/lib/python3.9/site-packages/sklearn/utils/validation.py\", line 114, in _assert_all_finite\n",
      "    raise ValueError(\n",
      "ValueError: Input contains NaN, infinity or a value too large for dtype('float64').\n",
      "\n",
      "  warnings.warn(\n",
      "/home/olivier/anaconda3/lib/python3.9/site-packages/sklearn/model_selection/_validation.py:372: FitFailedWarning: \n",
      "120 fits failed out of a total of 180.\n",
      "The score on these train-test partitions for these parameters will be set to nan.\n",
      "If these failures are not expected, you can try to debug them by setting error_score='raise'.\n",
      "\n",
      "Below are more details about the failures:\n",
      "--------------------------------------------------------------------------------\n",
      "60 fits failed with the following error:\n",
      "Traceback (most recent call last):\n",
      "  File \"/home/olivier/anaconda3/lib/python3.9/site-packages/sklearn/model_selection/_validation.py\", line 680, in _fit_and_score\n",
      "    estimator.fit(X_train, y_train, **fit_params)\n",
      "  File \"/home/olivier/anaconda3/lib/python3.9/site-packages/sklearn/neural_network/_multilayer_perceptron.py\", line 752, in fit\n",
      "    return self._fit(X, y, incremental=False)\n",
      "  File \"/home/olivier/anaconda3/lib/python3.9/site-packages/sklearn/neural_network/_multilayer_perceptron.py\", line 384, in _fit\n",
      "    self._validate_hyperparameters()\n",
      "  File \"/home/olivier/anaconda3/lib/python3.9/site-packages/sklearn/neural_network/_multilayer_perceptron.py\", line 498, in _validate_hyperparameters\n",
      "    raise ValueError(\"learning rate %s is not supported. \" % self.learning_rate)\n",
      "ValueError: learning rate 0.001 is not supported. \n",
      "\n",
      "--------------------------------------------------------------------------------\n",
      "60 fits failed with the following error:\n",
      "Traceback (most recent call last):\n",
      "  File \"/home/olivier/anaconda3/lib/python3.9/site-packages/sklearn/model_selection/_validation.py\", line 680, in _fit_and_score\n",
      "    estimator.fit(X_train, y_train, **fit_params)\n",
      "  File \"/home/olivier/anaconda3/lib/python3.9/site-packages/sklearn/neural_network/_multilayer_perceptron.py\", line 752, in fit\n",
      "    return self._fit(X, y, incremental=False)\n",
      "  File \"/home/olivier/anaconda3/lib/python3.9/site-packages/sklearn/neural_network/_multilayer_perceptron.py\", line 384, in _fit\n",
      "    self._validate_hyperparameters()\n",
      "  File \"/home/olivier/anaconda3/lib/python3.9/site-packages/sklearn/neural_network/_multilayer_perceptron.py\", line 498, in _validate_hyperparameters\n",
      "    raise ValueError(\"learning rate %s is not supported. \" % self.learning_rate)\n",
      "ValueError: learning rate 0.0001 is not supported. \n",
      "\n",
      "  warnings.warn(some_fits_failed_message, FitFailedWarning)\n",
      "/home/olivier/anaconda3/lib/python3.9/site-packages/sklearn/model_selection/_search.py:969: UserWarning: One or more of the test scores are non-finite: [            nan             nan             nan             nan\n",
      " -1.21418440e+02 -5.13745752e+30             nan             nan\n",
      "             nan             nan -2.17664222e+01             nan\n",
      "             nan             nan             nan             nan\n",
      " -8.70894432e+02 -4.97272502e+14             nan             nan\n",
      "             nan             nan -1.70333672e+01 -9.64425910e+15\n",
      "             nan             nan             nan             nan\n",
      " -1.79030993e+01             nan             nan             nan\n",
      "             nan             nan -1.76405349e+01 -1.55495221e+15]\n",
      "  warnings.warn(\n"
     ]
    },
    {
     "data": {
      "text/plain": [
       "GridSearchCV(cv=5,\n",
       "             estimator=MLPRegressor(hidden_layer_sizes={200, 10, 100},\n",
       "                                    max_iter=5000),\n",
       "             n_jobs=-1,\n",
       "             param_grid={'batch_size': [200, 50],\n",
       "                         'hidden_layer_sizes': [{100}, {200, 50, 100}, {100}],\n",
       "                         'learning_rate': [0.001, 0.0001, 'adaptive'],\n",
       "                         'solver': ['adam', 'sgd']},\n",
       "             scoring='neg_mean_squared_error')"
      ]
     },
     "execution_count": 99,
     "metadata": {},
     "output_type": "execute_result"
    }
   ],
   "source": [
    "#cv and grid search   (changement de parametres)\n",
    "reg = GridSearchCV(model, parameter_space, scoring =\n",
    "'neg_mean_squared_error', cv=5, n_jobs=-1)\n",
    "reg.fit(X, y)"
   ]
  },
  {
   "cell_type": "code",
   "execution_count": 100,
   "id": "e9b0364f",
   "metadata": {},
   "outputs": [
    {
     "name": "stdout",
     "output_type": "stream",
     "text": [
      "Best score: 17.033367 using {'batch_size': 50, 'hidden_layer_sizes': {100}, 'learning_rate': 'adaptive', 'solver': 'adam'}\n",
      "Best estimator:  MLPRegressor(batch_size=50, hidden_layer_sizes={100}, learning_rate='adaptive',\n",
      "             max_iter=5000)\n"
     ]
    }
   ],
   "source": [
    "# Afficher les resultats\n",
    "print(\"Best score: %f using %s\" % (abs(reg.best_score_), reg.best_params_))\n",
    "print(\"Best estimator: \",reg.best_estimator_)"
   ]
  },
  {
   "cell_type": "code",
   "execution_count": null,
   "id": "cbb5a16c",
   "metadata": {},
   "outputs": [],
   "source": []
  }
 ],
 "metadata": {
  "kernelspec": {
   "display_name": "Python 3 (ipykernel)",
   "language": "python",
   "name": "python3"
  },
  "language_info": {
   "codemirror_mode": {
    "name": "ipython",
    "version": 3
   },
   "file_extension": ".py",
   "mimetype": "text/x-python",
   "name": "python",
   "nbconvert_exporter": "python",
   "pygments_lexer": "ipython3",
   "version": "3.9.13"
  }
 },
 "nbformat": 4,
 "nbformat_minor": 5
}
