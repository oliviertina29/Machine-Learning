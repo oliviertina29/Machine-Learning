{
 "cells": [
  {
   "attachments": {},
   "cell_type": "markdown",
   "id": "77a2545d",
   "metadata": {},
   "source": [
    "## Team : \n",
    "\n",
    "TINA Djara Olivier\n",
    "\n",
    "DJOSSOU Djidjoho Isidore Borel"
   ]
  },
  {
   "cell_type": "markdown",
   "id": "20d8b58a",
   "metadata": {},
   "source": [
    "# Classification\n",
    "\n",
    "## I. KMeans clustering\n",
    "\n",
    "### 1- Importation des librairies :"
   ]
  },
  {
   "cell_type": "code",
   "execution_count": 1,
   "id": "a637135d",
   "metadata": {},
   "outputs": [],
   "source": [
    "import pandas as pd\n",
    "import numpy as np\n",
    "import matplotlib.pyplot as plt\n",
    "from sklearn.cluster import KMeans\n",
    "from sklearn import datasets\n",
    "from sklearn import metrics"
   ]
  },
  {
   "cell_type": "markdown",
   "id": "d5393b77",
   "metadata": {},
   "source": [
    "### 2- Importation de la dataset :"
   ]
  },
  {
   "cell_type": "code",
   "execution_count": 2,
   "id": "a2d7a40e",
   "metadata": {},
   "outputs": [],
   "source": [
    "# Chargement des données\n",
    "iris = datasets.load_iris()\n",
    "X = iris.data"
   ]
  },
  {
   "cell_type": "code",
   "execution_count": 3,
   "id": "9e4dd435",
   "metadata": {},
   "outputs": [
    {
     "data": {
      "text/plain": [
       "array([[5.1, 3.5, 1.4, 0.2],\n",
       "       [4.9, 3. , 1.4, 0.2],\n",
       "       [4.7, 3.2, 1.3, 0.2],\n",
       "       [4.6, 3.1, 1.5, 0.2],\n",
       "       [5. , 3.6, 1.4, 0.2],\n",
       "       [5.4, 3.9, 1.7, 0.4],\n",
       "       [4.6, 3.4, 1.4, 0.3],\n",
       "       [5. , 3.4, 1.5, 0.2],\n",
       "       [4.4, 2.9, 1.4, 0.2],\n",
       "       [4.9, 3.1, 1.5, 0.1],\n",
       "       [5.4, 3.7, 1.5, 0.2],\n",
       "       [4.8, 3.4, 1.6, 0.2],\n",
       "       [4.8, 3. , 1.4, 0.1],\n",
       "       [4.3, 3. , 1.1, 0.1],\n",
       "       [5.8, 4. , 1.2, 0.2],\n",
       "       [5.7, 4.4, 1.5, 0.4],\n",
       "       [5.4, 3.9, 1.3, 0.4],\n",
       "       [5.1, 3.5, 1.4, 0.3],\n",
       "       [5.7, 3.8, 1.7, 0.3],\n",
       "       [5.1, 3.8, 1.5, 0.3],\n",
       "       [5.4, 3.4, 1.7, 0.2],\n",
       "       [5.1, 3.7, 1.5, 0.4],\n",
       "       [4.6, 3.6, 1. , 0.2],\n",
       "       [5.1, 3.3, 1.7, 0.5],\n",
       "       [4.8, 3.4, 1.9, 0.2],\n",
       "       [5. , 3. , 1.6, 0.2],\n",
       "       [5. , 3.4, 1.6, 0.4],\n",
       "       [5.2, 3.5, 1.5, 0.2],\n",
       "       [5.2, 3.4, 1.4, 0.2],\n",
       "       [4.7, 3.2, 1.6, 0.2],\n",
       "       [4.8, 3.1, 1.6, 0.2],\n",
       "       [5.4, 3.4, 1.5, 0.4],\n",
       "       [5.2, 4.1, 1.5, 0.1],\n",
       "       [5.5, 4.2, 1.4, 0.2],\n",
       "       [4.9, 3.1, 1.5, 0.2],\n",
       "       [5. , 3.2, 1.2, 0.2],\n",
       "       [5.5, 3.5, 1.3, 0.2],\n",
       "       [4.9, 3.6, 1.4, 0.1],\n",
       "       [4.4, 3. , 1.3, 0.2],\n",
       "       [5.1, 3.4, 1.5, 0.2],\n",
       "       [5. , 3.5, 1.3, 0.3],\n",
       "       [4.5, 2.3, 1.3, 0.3],\n",
       "       [4.4, 3.2, 1.3, 0.2],\n",
       "       [5. , 3.5, 1.6, 0.6],\n",
       "       [5.1, 3.8, 1.9, 0.4],\n",
       "       [4.8, 3. , 1.4, 0.3],\n",
       "       [5.1, 3.8, 1.6, 0.2],\n",
       "       [4.6, 3.2, 1.4, 0.2],\n",
       "       [5.3, 3.7, 1.5, 0.2],\n",
       "       [5. , 3.3, 1.4, 0.2],\n",
       "       [7. , 3.2, 4.7, 1.4],\n",
       "       [6.4, 3.2, 4.5, 1.5],\n",
       "       [6.9, 3.1, 4.9, 1.5],\n",
       "       [5.5, 2.3, 4. , 1.3],\n",
       "       [6.5, 2.8, 4.6, 1.5],\n",
       "       [5.7, 2.8, 4.5, 1.3],\n",
       "       [6.3, 3.3, 4.7, 1.6],\n",
       "       [4.9, 2.4, 3.3, 1. ],\n",
       "       [6.6, 2.9, 4.6, 1.3],\n",
       "       [5.2, 2.7, 3.9, 1.4],\n",
       "       [5. , 2. , 3.5, 1. ],\n",
       "       [5.9, 3. , 4.2, 1.5],\n",
       "       [6. , 2.2, 4. , 1. ],\n",
       "       [6.1, 2.9, 4.7, 1.4],\n",
       "       [5.6, 2.9, 3.6, 1.3],\n",
       "       [6.7, 3.1, 4.4, 1.4],\n",
       "       [5.6, 3. , 4.5, 1.5],\n",
       "       [5.8, 2.7, 4.1, 1. ],\n",
       "       [6.2, 2.2, 4.5, 1.5],\n",
       "       [5.6, 2.5, 3.9, 1.1],\n",
       "       [5.9, 3.2, 4.8, 1.8],\n",
       "       [6.1, 2.8, 4. , 1.3],\n",
       "       [6.3, 2.5, 4.9, 1.5],\n",
       "       [6.1, 2.8, 4.7, 1.2],\n",
       "       [6.4, 2.9, 4.3, 1.3],\n",
       "       [6.6, 3. , 4.4, 1.4],\n",
       "       [6.8, 2.8, 4.8, 1.4],\n",
       "       [6.7, 3. , 5. , 1.7],\n",
       "       [6. , 2.9, 4.5, 1.5],\n",
       "       [5.7, 2.6, 3.5, 1. ],\n",
       "       [5.5, 2.4, 3.8, 1.1],\n",
       "       [5.5, 2.4, 3.7, 1. ],\n",
       "       [5.8, 2.7, 3.9, 1.2],\n",
       "       [6. , 2.7, 5.1, 1.6],\n",
       "       [5.4, 3. , 4.5, 1.5],\n",
       "       [6. , 3.4, 4.5, 1.6],\n",
       "       [6.7, 3.1, 4.7, 1.5],\n",
       "       [6.3, 2.3, 4.4, 1.3],\n",
       "       [5.6, 3. , 4.1, 1.3],\n",
       "       [5.5, 2.5, 4. , 1.3],\n",
       "       [5.5, 2.6, 4.4, 1.2],\n",
       "       [6.1, 3. , 4.6, 1.4],\n",
       "       [5.8, 2.6, 4. , 1.2],\n",
       "       [5. , 2.3, 3.3, 1. ],\n",
       "       [5.6, 2.7, 4.2, 1.3],\n",
       "       [5.7, 3. , 4.2, 1.2],\n",
       "       [5.7, 2.9, 4.2, 1.3],\n",
       "       [6.2, 2.9, 4.3, 1.3],\n",
       "       [5.1, 2.5, 3. , 1.1],\n",
       "       [5.7, 2.8, 4.1, 1.3],\n",
       "       [6.3, 3.3, 6. , 2.5],\n",
       "       [5.8, 2.7, 5.1, 1.9],\n",
       "       [7.1, 3. , 5.9, 2.1],\n",
       "       [6.3, 2.9, 5.6, 1.8],\n",
       "       [6.5, 3. , 5.8, 2.2],\n",
       "       [7.6, 3. , 6.6, 2.1],\n",
       "       [4.9, 2.5, 4.5, 1.7],\n",
       "       [7.3, 2.9, 6.3, 1.8],\n",
       "       [6.7, 2.5, 5.8, 1.8],\n",
       "       [7.2, 3.6, 6.1, 2.5],\n",
       "       [6.5, 3.2, 5.1, 2. ],\n",
       "       [6.4, 2.7, 5.3, 1.9],\n",
       "       [6.8, 3. , 5.5, 2.1],\n",
       "       [5.7, 2.5, 5. , 2. ],\n",
       "       [5.8, 2.8, 5.1, 2.4],\n",
       "       [6.4, 3.2, 5.3, 2.3],\n",
       "       [6.5, 3. , 5.5, 1.8],\n",
       "       [7.7, 3.8, 6.7, 2.2],\n",
       "       [7.7, 2.6, 6.9, 2.3],\n",
       "       [6. , 2.2, 5. , 1.5],\n",
       "       [6.9, 3.2, 5.7, 2.3],\n",
       "       [5.6, 2.8, 4.9, 2. ],\n",
       "       [7.7, 2.8, 6.7, 2. ],\n",
       "       [6.3, 2.7, 4.9, 1.8],\n",
       "       [6.7, 3.3, 5.7, 2.1],\n",
       "       [7.2, 3.2, 6. , 1.8],\n",
       "       [6.2, 2.8, 4.8, 1.8],\n",
       "       [6.1, 3. , 4.9, 1.8],\n",
       "       [6.4, 2.8, 5.6, 2.1],\n",
       "       [7.2, 3. , 5.8, 1.6],\n",
       "       [7.4, 2.8, 6.1, 1.9],\n",
       "       [7.9, 3.8, 6.4, 2. ],\n",
       "       [6.4, 2.8, 5.6, 2.2],\n",
       "       [6.3, 2.8, 5.1, 1.5],\n",
       "       [6.1, 2.6, 5.6, 1.4],\n",
       "       [7.7, 3. , 6.1, 2.3],\n",
       "       [6.3, 3.4, 5.6, 2.4],\n",
       "       [6.4, 3.1, 5.5, 1.8],\n",
       "       [6. , 3. , 4.8, 1.8],\n",
       "       [6.9, 3.1, 5.4, 2.1],\n",
       "       [6.7, 3.1, 5.6, 2.4],\n",
       "       [6.9, 3.1, 5.1, 2.3],\n",
       "       [5.8, 2.7, 5.1, 1.9],\n",
       "       [6.8, 3.2, 5.9, 2.3],\n",
       "       [6.7, 3.3, 5.7, 2.5],\n",
       "       [6.7, 3. , 5.2, 2.3],\n",
       "       [6.3, 2.5, 5. , 1.9],\n",
       "       [6.5, 3. , 5.2, 2. ],\n",
       "       [6.2, 3.4, 5.4, 2.3],\n",
       "       [5.9, 3. , 5.1, 1.8]])"
      ]
     },
     "execution_count": 3,
     "metadata": {},
     "output_type": "execute_result"
    }
   ],
   "source": [
    "X"
   ]
  },
  {
   "cell_type": "markdown",
   "id": "57fdf2bd",
   "metadata": {},
   "source": [
    "### 3- Détermination de la valeur optimale de K :"
   ]
  },
  {
   "cell_type": "code",
   "execution_count": 4,
   "id": "eb655201",
   "metadata": {
    "scrolled": true
   },
   "outputs": [
    {
     "name": "stderr",
     "output_type": "stream",
     "text": [
      "/home/olivier/anaconda3/lib/python3.9/site-packages/sklearn/cluster/_kmeans.py:870: FutureWarning: The default value of `n_init` will change from 10 to 'auto' in 1.4. Set the value of `n_init` explicitly to suppress the warning\n",
      "  warnings.warn(\n",
      "/home/olivier/anaconda3/lib/python3.9/site-packages/sklearn/cluster/_kmeans.py:870: FutureWarning: The default value of `n_init` will change from 10 to 'auto' in 1.4. Set the value of `n_init` explicitly to suppress the warning\n",
      "  warnings.warn(\n",
      "/home/olivier/anaconda3/lib/python3.9/site-packages/sklearn/cluster/_kmeans.py:870: FutureWarning: The default value of `n_init` will change from 10 to 'auto' in 1.4. Set the value of `n_init` explicitly to suppress the warning\n",
      "  warnings.warn(\n",
      "/home/olivier/anaconda3/lib/python3.9/site-packages/sklearn/cluster/_kmeans.py:870: FutureWarning: The default value of `n_init` will change from 10 to 'auto' in 1.4. Set the value of `n_init` explicitly to suppress the warning\n",
      "  warnings.warn(\n",
      "/home/olivier/anaconda3/lib/python3.9/site-packages/sklearn/cluster/_kmeans.py:870: FutureWarning: The default value of `n_init` will change from 10 to 'auto' in 1.4. Set the value of `n_init` explicitly to suppress the warning\n",
      "  warnings.warn(\n",
      "/home/olivier/anaconda3/lib/python3.9/site-packages/sklearn/cluster/_kmeans.py:870: FutureWarning: The default value of `n_init` will change from 10 to 'auto' in 1.4. Set the value of `n_init` explicitly to suppress the warning\n",
      "  warnings.warn(\n",
      "/home/olivier/anaconda3/lib/python3.9/site-packages/sklearn/cluster/_kmeans.py:870: FutureWarning: The default value of `n_init` will change from 10 to 'auto' in 1.4. Set the value of `n_init` explicitly to suppress the warning\n",
      "  warnings.warn(\n",
      "/home/olivier/anaconda3/lib/python3.9/site-packages/sklearn/cluster/_kmeans.py:870: FutureWarning: The default value of `n_init` will change from 10 to 'auto' in 1.4. Set the value of `n_init` explicitly to suppress the warning\n",
      "  warnings.warn(\n",
      "/home/olivier/anaconda3/lib/python3.9/site-packages/sklearn/cluster/_kmeans.py:870: FutureWarning: The default value of `n_init` will change from 10 to 'auto' in 1.4. Set the value of `n_init` explicitly to suppress the warning\n",
      "  warnings.warn(\n"
     ]
    },
    {
     "data": {
      "text/plain": [
       "[681.3706,\n",
       " 152.34795176035792,\n",
       " 78.85144142614601,\n",
       " 57.228473214285714,\n",
       " 46.44618205128205,\n",
       " 39.30610712530712,\n",
       " 34.30581529581529,\n",
       " 30.093465689916492,\n",
       " 27.787574873448442]"
      ]
     },
     "execution_count": 4,
     "metadata": {},
     "output_type": "execute_result"
    }
   ],
   "source": [
    "tab =[]\n",
    "for i in range(1,10):\n",
    "    kmeans = KMeans(n_clusters = i)\n",
    "    kmeans.fit(X)\n",
    "    tab.append(kmeans.inertia_)\n",
    "tab"
   ]
  },
  {
   "cell_type": "markdown",
   "id": "74dd9526",
   "metadata": {},
   "source": [
    "### 4- Visualisation de la méthode Elbow :"
   ]
  },
  {
   "cell_type": "code",
   "execution_count": 5,
   "id": "9e600370",
   "metadata": {},
   "outputs": [
    {
     "data": {
      "image/png": "[encoded data removed]",
      "text/plain": [
       "<Figure size 640x480 with 1 Axes>"
      ]
     },
     "metadata": {},
     "output_type": "display_data"
    }
   ],
   "source": [
    "plt.plot(range(1,10),tab)\n",
    "plt.title(\"La méthode Eblow\")\n",
    "plt.xlabel(\"nombre de clusters\")\n",
    "plt.ylabel(\"Inertie intra-cluster (WCSS)\")\n",
    "plt.show()"
   ]
  },
  {
   "cell_type": "markdown",
   "id": "ce097d58",
   "metadata": {},
   "source": [
    "###  5-Visualisation des clusters :"
   ]
  },
  {
   "cell_type": "code",
   "execution_count": 6,
   "id": "e3c4d17e",
   "metadata": {},
   "outputs": [
    {
     "name": "stderr",
     "output_type": "stream",
     "text": [
      "/home/olivier/anaconda3/lib/python3.9/site-packages/sklearn/cluster/_kmeans.py:870: FutureWarning: The default value of `n_init` will change from 10 to 'auto' in 1.4. Set the value of `n_init` explicitly to suppress the warning\n",
      "  warnings.warn(\n"
     ]
    },
    {
     "data": {
      "image/png": "[encoded data removed]",
      "text/plain": [
       "<Figure size 640x480 with 1 Axes>"
      ]
     },
     "metadata": {},
     "output_type": "display_data"
    }
   ],
   "source": [
    "#Application deK-Means avec 3 clusters\n",
    "kmeans = KMeans(n_clusters=3)\n",
    "kmeans.fit(X)\n",
    "#Visualisation\n",
    "colormap=np.array([\"green\", \"red\", \"blue\"])\n",
    "plt.scatter(X[:,2], X[:,3], c=colormap[kmeans.labels_], s=20)\n",
    "plt.show()"
   ]
  },
  {
   "cell_type": "code",
   "execution_count": 7,
   "id": "0d4e4aa1",
   "metadata": {},
   "outputs": [
    {
     "data": {
      "image/png": "[encoded data removed]",
      "text/plain": [
       "<Figure size 640x480 with 1 Axes>"
      ]
     },
     "metadata": {},
     "output_type": "display_data"
    }
   ],
   "source": [
    "colormap=np.array([ \"green\",\"red\",\"blue\"])\n",
    "plt.scatter(X[:,2], X[:,3], c=colormap[iris.target], s=20)\n",
    "plt.show()"
   ]
  },
  {
   "cell_type": "markdown",
   "id": "a4d8f59b",
   "metadata": {},
   "source": [
    "### 6- Modification des paramètres par défaut :"
   ]
  },
  {
   "cell_type": "code",
   "execution_count": 8,
   "id": "55ee508f",
   "metadata": {},
   "outputs": [
    {
     "data": {
      "text/plain": [
       "0.7302382722834697"
      ]
     },
     "execution_count": 8,
     "metadata": {},
     "output_type": "execute_result"
    }
   ],
   "source": [
    "kmeans = KMeans(n_clusters=3, n_init=100, init='k-means++').fit(X)\n",
    "metrics.adjusted_rand_score(kmeans.predict(X),iris.target)"
   ]
  },
  {
   "cell_type": "markdown",
   "id": "322f7b37",
   "metadata": {},
   "source": [
    "n_init = 1"
   ]
  },
  {
   "cell_type": "code",
   "execution_count": 9,
   "id": "96cd5bd3",
   "metadata": {},
   "outputs": [
    {
     "data": {
      "text/plain": [
       "[0.7302382722834697,\n",
       " 0.7163421126838476,\n",
       " 0.7163421126838476,\n",
       " 0.7163421126838476,\n",
       " 0.7302382722834697,\n",
       " 0.7163421126838476,\n",
       " 0.7163421126838476,\n",
       " 0.7302382722834697,\n",
       " 0.7163421126838476,\n",
       " 0.7302382722834697]"
      ]
     },
     "execution_count": 9,
     "metadata": {},
     "output_type": "execute_result"
    }
   ],
   "source": [
    "tab_metrics_1 = []\n",
    "for i in range(10):\n",
    "    kmeans = KMeans(n_clusters=3, n_init=1, init='k-means++').fit(X)\n",
    "    tab_metrics_1.append(metrics.adjusted_rand_score(kmeans.predict(X),iris.target))\n",
    "tab_metrics_1"
   ]
  },
  {
   "cell_type": "code",
   "execution_count": 10,
   "id": "a4524927",
   "metadata": {},
   "outputs": [
    {
     "data": {
      "text/plain": [
       "[0.7302382722834697,\n",
       " 0.7302382722834697,\n",
       " 0.7163421126838476,\n",
       " 0.7163421126838476,\n",
       " 0.7302382722834697,\n",
       " 0.7302382722834697,\n",
       " 0.7163421126838476,\n",
       " 0.7302382722834697,\n",
       " 0.7163421126838476,\n",
       " 0.7302382722834697]"
      ]
     },
     "execution_count": 10,
     "metadata": {},
     "output_type": "execute_result"
    }
   ],
   "source": [
    "tab_metrics_2 = []\n",
    "for i in range(10):\n",
    "    kmeans = KMeans(n_clusters=3, n_init=1, init='random').fit(X)\n",
    "    tab_metrics_2.append(metrics.adjusted_rand_score(kmeans.predict(X),iris.target))\n",
    "tab_metrics_2"
   ]
  },
  {
   "cell_type": "code",
   "execution_count": 11,
   "id": "d10f79ae",
   "metadata": {},
   "outputs": [
    {
     "data": {
      "text/plain": [
       "array([[0.73023827, 0.71634211, 0.71634211, 0.71634211, 0.73023827,\n",
       "        0.71634211, 0.71634211, 0.73023827, 0.71634211, 0.73023827],\n",
       "       [0.73023827, 0.73023827, 0.71634211, 0.71634211, 0.73023827,\n",
       "        0.73023827, 0.71634211, 0.73023827, 0.71634211, 0.73023827]])"
      ]
     },
     "execution_count": 11,
     "metadata": {},
     "output_type": "execute_result"
    }
   ],
   "source": [
    "adj_rand_score_1 = np.vstack((np.array(tab_metrics_1), np.array(tab_metrics_2)))\n",
    "adj_rand_score_1"
   ]
  },
  {
   "cell_type": "code",
   "execution_count": 12,
   "id": "27b8141c",
   "metadata": {},
   "outputs": [
    {
     "data": {
      "text/html": [
       "<div>\n",
       "<style scoped>\n",
       "    .dataframe tbody tr th:only-of-type {\n",
       "        vertical-align: middle;\n",
       "    }\n",
       "\n",
       "    .dataframe tbody tr th {\n",
       "        vertical-align: top;\n",
       "    }\n",
       "\n",
       "    .dataframe thead th {\n",
       "        text-align: right;\n",
       "    }\n",
       "</style>\n",
       "<table border=\"1\" class=\"dataframe\">\n",
       "  <thead>\n",
       "    <tr style=\"text-align: right;\">\n",
       "      <th></th>\n",
       "      <th>0</th>\n",
       "      <th>1</th>\n",
       "      <th>2</th>\n",
       "      <th>3</th>\n",
       "      <th>4</th>\n",
       "      <th>5</th>\n",
       "      <th>6</th>\n",
       "      <th>7</th>\n",
       "      <th>8</th>\n",
       "      <th>9</th>\n",
       "    </tr>\n",
       "  </thead>\n",
       "  <tbody>\n",
       "    <tr>\n",
       "      <th>0</th>\n",
       "      <td>0.730238</td>\n",
       "      <td>0.716342</td>\n",
       "      <td>0.716342</td>\n",
       "      <td>0.716342</td>\n",
       "      <td>0.730238</td>\n",
       "      <td>0.716342</td>\n",
       "      <td>0.716342</td>\n",
       "      <td>0.730238</td>\n",
       "      <td>0.716342</td>\n",
       "      <td>0.730238</td>\n",
       "    </tr>\n",
       "    <tr>\n",
       "      <th>1</th>\n",
       "      <td>0.730238</td>\n",
       "      <td>0.730238</td>\n",
       "      <td>0.716342</td>\n",
       "      <td>0.716342</td>\n",
       "      <td>0.730238</td>\n",
       "      <td>0.730238</td>\n",
       "      <td>0.716342</td>\n",
       "      <td>0.730238</td>\n",
       "      <td>0.716342</td>\n",
       "      <td>0.730238</td>\n",
       "    </tr>\n",
       "  </tbody>\n",
       "</table>\n",
       "</div>"
      ],
      "text/plain": [
       "          0         1         2         3         4         5         6  \\\n",
       "0  0.730238  0.716342  0.716342  0.716342  0.730238  0.716342  0.716342   \n",
       "1  0.730238  0.730238  0.716342  0.716342  0.730238  0.730238  0.716342   \n",
       "\n",
       "          7         8         9  \n",
       "0  0.730238  0.716342  0.730238  \n",
       "1  0.730238  0.716342  0.730238  "
      ]
     },
     "execution_count": 12,
     "metadata": {},
     "output_type": "execute_result"
    }
   ],
   "source": [
    "adj_rand_score_1 = pd.DataFrame(adj_rand_score_1)\n",
    "adj_rand_score_1"
   ]
  },
  {
   "cell_type": "markdown",
   "id": "d987c1bc",
   "metadata": {},
   "source": [
    "n_init = 10"
   ]
  },
  {
   "cell_type": "code",
   "execution_count": 14,
   "id": "5d002e6b",
   "metadata": {},
   "outputs": [
    {
     "data": {
      "text/plain": [
       "[0.7302382722834697,\n",
       " 0.7302382722834697,\n",
       " 0.7302382722834697,\n",
       " 0.7302382722834697,\n",
       " 0.7302382722834697,\n",
       " 0.7302382722834697,\n",
       " 0.7302382722834697,\n",
       " 0.7302382722834697,\n",
       " 0.7302382722834697,\n",
       " 0.7302382722834697]"
      ]
     },
     "execution_count": 14,
     "metadata": {},
     "output_type": "execute_result"
    }
   ],
   "source": [
    "tab_metrics_3 = []\n",
    "for i in range(10):\n",
    "    kmeans = KMeans(n_clusters=3, n_init=10, init='k-means++').fit(X)\n",
    "    tab_metrics_3.append(metrics.adjusted_rand_score(kmeans.predict(X),iris.target))\n",
    "tab_metrics_3"
   ]
  },
  {
   "cell_type": "code",
   "execution_count": 16,
   "id": "7894e2bf",
   "metadata": {},
   "outputs": [
    {
     "data": {
      "text/plain": [
       "[0.7302382722834697,\n",
       " 0.7302382722834697,\n",
       " 0.7302382722834697,\n",
       " 0.7302382722834697,\n",
       " 0.7302382722834697,\n",
       " 0.7302382722834697,\n",
       " 0.7302382722834697,\n",
       " 0.7302382722834697,\n",
       " 0.7302382722834697,\n",
       " 0.7302382722834697]"
      ]
     },
     "execution_count": 16,
     "metadata": {},
     "output_type": "execute_result"
    }
   ],
   "source": [
    "tab_metrics_4 = []\n",
    "for i in range(10):\n",
    "    kmeans = KMeans(n_clusters=3, n_init=10, init='random').fit(X)\n",
    "    tab_metrics_4.append(metrics.adjusted_rand_score(kmeans.predict(X),iris.target))\n",
    "tab_metrics_4"
   ]
  },
  {
   "cell_type": "code",
   "execution_count": 17,
   "id": "0b1affc9",
   "metadata": {},
   "outputs": [
    {
     "data": {
      "text/plain": [
       "array([[0.73023827, 0.73023827, 0.73023827, 0.73023827, 0.73023827,\n",
       "        0.73023827, 0.73023827, 0.73023827, 0.73023827, 0.73023827],\n",
       "       [0.73023827, 0.73023827, 0.73023827, 0.73023827, 0.73023827,\n",
       "        0.73023827, 0.73023827, 0.73023827, 0.73023827, 0.73023827]])"
      ]
     },
     "execution_count": 17,
     "metadata": {},
     "output_type": "execute_result"
    }
   ],
   "source": [
    "adj_rand_score_2 = np.vstack((np.array(tab_metrics_3), np.array(tab_metrics_4)))\n",
    "adj_rand_score_2"
   ]
  },
  {
   "cell_type": "code",
   "execution_count": 18,
   "id": "522a1920",
   "metadata": {},
   "outputs": [
    {
     "data": {
      "text/html": [
       "<div>\n",
       "<style scoped>\n",
       "    .dataframe tbody tr th:only-of-type {\n",
       "        vertical-align: middle;\n",
       "    }\n",
       "\n",
       "    .dataframe tbody tr th {\n",
       "        vertical-align: top;\n",
       "    }\n",
       "\n",
       "    .dataframe thead th {\n",
       "        text-align: right;\n",
       "    }\n",
       "</style>\n",
       "<table border=\"1\" class=\"dataframe\">\n",
       "  <thead>\n",
       "    <tr style=\"text-align: right;\">\n",
       "      <th></th>\n",
       "      <th>0</th>\n",
       "      <th>1</th>\n",
       "      <th>2</th>\n",
       "      <th>3</th>\n",
       "      <th>4</th>\n",
       "      <th>5</th>\n",
       "      <th>6</th>\n",
       "      <th>7</th>\n",
       "      <th>8</th>\n",
       "      <th>9</th>\n",
       "    </tr>\n",
       "  </thead>\n",
       "  <tbody>\n",
       "    <tr>\n",
       "      <th>0</th>\n",
       "      <td>0.730238</td>\n",
       "      <td>0.730238</td>\n",
       "      <td>0.730238</td>\n",
       "      <td>0.730238</td>\n",
       "      <td>0.730238</td>\n",
       "      <td>0.730238</td>\n",
       "      <td>0.730238</td>\n",
       "      <td>0.730238</td>\n",
       "      <td>0.730238</td>\n",
       "      <td>0.730238</td>\n",
       "    </tr>\n",
       "    <tr>\n",
       "      <th>1</th>\n",
       "      <td>0.730238</td>\n",
       "      <td>0.730238</td>\n",
       "      <td>0.730238</td>\n",
       "      <td>0.730238</td>\n",
       "      <td>0.730238</td>\n",
       "      <td>0.730238</td>\n",
       "      <td>0.730238</td>\n",
       "      <td>0.730238</td>\n",
       "      <td>0.730238</td>\n",
       "      <td>0.730238</td>\n",
       "    </tr>\n",
       "  </tbody>\n",
       "</table>\n",
       "</div>"
      ],
      "text/plain": [
       "          0         1         2         3         4         5         6  \\\n",
       "0  0.730238  0.730238  0.730238  0.730238  0.730238  0.730238  0.730238   \n",
       "1  0.730238  0.730238  0.730238  0.730238  0.730238  0.730238  0.730238   \n",
       "\n",
       "          7         8         9  \n",
       "0  0.730238  0.730238  0.730238  \n",
       "1  0.730238  0.730238  0.730238  "
      ]
     },
     "execution_count": 18,
     "metadata": {},
     "output_type": "execute_result"
    }
   ],
   "source": [
    "adj_rand_score_2 = pd.DataFrame(adj_rand_score_2)\n",
    "adj_rand_score_2"
   ]
  },
  {
   "cell_type": "markdown",
   "id": "0c62eb65",
   "metadata": {},
   "source": [
    "## Partie II : HAC (Hierarchical Ascendant Classification)"
   ]
  },
  {
   "cell_type": "markdown",
   "id": "3a79d742",
   "metadata": {},
   "source": [
    "### 1- Importation des librairies :"
   ]
  },
  {
   "cell_type": "code",
   "execution_count": 19,
   "id": "88f263cb",
   "metadata": {},
   "outputs": [],
   "source": [
    "from scipy.cluster.hierarchy import dendrogram, linkage\n",
    "from sklearn.cluster import AgglomerativeClustering\n",
    "import scipy.cluster.hierarchy as sch"
   ]
  },
  {
   "cell_type": "markdown",
   "id": "a7e6acb0",
   "metadata": {},
   "source": [
    "### 2- Implémentation de HAC :"
   ]
  },
  {
   "cell_type": "code",
   "execution_count": 20,
   "id": "5290fc69",
   "metadata": {},
   "outputs": [
    {
     "name": "stdout",
     "output_type": "stream",
     "text": [
      "[1 1 1 1 1 1 1 1 1 1 1 1 1 1 1 1 1 1 1 1 1 1 1 1 1 1 1 1 1 1 1 1 1 1 1 1 1\n",
      " 1 1 1 1 1 1 1 1 1 1 1 1 1 0 0 0 0 0 0 0 0 0 0 0 0 0 0 0 0 0 0 0 0 0 0 0 0\n",
      " 0 0 0 0 0 0 0 0 0 0 0 0 0 0 0 0 0 0 0 0 0 0 0 0 0 0 0 0 0 0 0 0 0 0 0 0 0\n",
      " 0 0 0 0 0 0 0 0 0 0 0 0 0 0 0 0 0 0 0 0 0 0 0 0 0 0 0 0 0 0 0 0 0 0 0 0 0\n",
      " 0 0]\n"
     ]
    }
   ],
   "source": [
    "hac = AgglomerativeClustering()\n",
    "hac = hac.fit(X)\n",
    "print(hac.labels_)"
   ]
  },
  {
   "cell_type": "markdown",
   "id": "3f8b9e25",
   "metadata": {},
   "source": [
    "### 3- Visualisation du dendrogramme :"
   ]
  },
  {
   "cell_type": "code",
   "execution_count": 21,
   "id": "1d2c8688",
   "metadata": {},
   "outputs": [
    {
     "data": {
      "image/png": "[encoded data removed]",
      "text/plain": [
       "<Figure size 1000x700 with 1 Axes>"
      ]
     },
     "metadata": {},
     "output_type": "display_data"
    }
   ],
   "source": [
    "# Plotting the dendrogram\n",
    "plt.figure(figsize=(10, 7))\n",
    "plt.title(\"Dendrogram\")\n",
    "linkage_matrix = linkage(hac.children_, 'ward')\n",
    "dendrogram = sch.dendrogram(linkage_matrix)\n",
    "plt.show()"
   ]
  },
  {
   "cell_type": "code",
   "execution_count": 22,
   "id": "0977fefe",
   "metadata": {},
   "outputs": [
    {
     "data": {
      "image/png": "[encoded data removed]",
      "text/plain": [
       "<Figure size 1000x700 with 1 Axes>"
      ]
     },
     "metadata": {},
     "output_type": "display_data"
    }
   ],
   "source": [
    "hac = AgglomerativeClustering(n_clusters=3)\n",
    "hac.fit(X)\n",
    "# Plotting the dendrogram\n",
    "plt.figure(figsize=(10, 7))\n",
    "plt.title(\"Dendrogram\")\n",
    "linkage_matrix = linkage(hac.children_, 'ward')\n",
    "dendrogram = sch.dendrogram(linkage_matrix,truncate_mode='level', p=3)\n",
    "plt.show()"
   ]
  },
  {
   "cell_type": "markdown",
   "id": "ce7e4369",
   "metadata": {},
   "source": [
    "### 4- Modification des paramètres par défaut :"
   ]
  },
  {
   "cell_type": "code",
   "execution_count": 36,
   "id": "f4966ef8",
   "metadata": {
    "scrolled": true
   },
   "outputs": [
    {
     "name": "stdout",
     "output_type": "stream",
     "text": [
      "0.5681159420289855\n",
      "0.4219886317147244\n",
      "0.5681159420289855\n",
      "0.5681159420289855\n",
      "0.2448829930725613\n",
      "0.5681159420289855\n",
      "0.5681159420289855\n",
      "0.2448829930725613\n",
      "0.5681159420289855\n",
      "0.5681159420289855\n"
     ]
    },
    {
     "name": "stderr",
     "output_type": "stream",
     "text": [
      "/home/olivier/anaconda3/lib/python3.9/site-packages/sklearn/cluster/_agglomerative.py:983: FutureWarning: Attribute `affinity` was deprecated in version 1.2 and will be removed in 1.4. Use `metric` instead\n",
      "  warnings.warn(\n",
      "/home/olivier/anaconda3/lib/python3.9/site-packages/sklearn/cluster/_agglomerative.py:983: FutureWarning: Attribute `affinity` was deprecated in version 1.2 and will be removed in 1.4. Use `metric` instead\n",
      "  warnings.warn(\n",
      "/home/olivier/anaconda3/lib/python3.9/site-packages/sklearn/cluster/_agglomerative.py:983: FutureWarning: Attribute `affinity` was deprecated in version 1.2 and will be removed in 1.4. Use `metric` instead\n",
      "  warnings.warn(\n",
      "/home/olivier/anaconda3/lib/python3.9/site-packages/sklearn/cluster/_agglomerative.py:983: FutureWarning: Attribute `affinity` was deprecated in version 1.2 and will be removed in 1.4. Use `metric` instead\n",
      "  warnings.warn(\n",
      "/home/olivier/anaconda3/lib/python3.9/site-packages/sklearn/cluster/_agglomerative.py:983: FutureWarning: Attribute `affinity` was deprecated in version 1.2 and will be removed in 1.4. Use `metric` instead\n",
      "  warnings.warn(\n",
      "/home/olivier/anaconda3/lib/python3.9/site-packages/sklearn/cluster/_agglomerative.py:983: FutureWarning: Attribute `affinity` was deprecated in version 1.2 and will be removed in 1.4. Use `metric` instead\n",
      "  warnings.warn(\n",
      "/home/olivier/anaconda3/lib/python3.9/site-packages/sklearn/cluster/_agglomerative.py:983: FutureWarning: Attribute `affinity` was deprecated in version 1.2 and will be removed in 1.4. Use `metric` instead\n",
      "  warnings.warn(\n",
      "/home/olivier/anaconda3/lib/python3.9/site-packages/sklearn/cluster/_agglomerative.py:983: FutureWarning: Attribute `affinity` was deprecated in version 1.2 and will be removed in 1.4. Use `metric` instead\n",
      "  warnings.warn(\n",
      "/home/olivier/anaconda3/lib/python3.9/site-packages/sklearn/cluster/_agglomerative.py:983: FutureWarning: Attribute `affinity` was deprecated in version 1.2 and will be removed in 1.4. Use `metric` instead\n",
      "  warnings.warn(\n",
      "/home/olivier/anaconda3/lib/python3.9/site-packages/sklearn/cluster/_agglomerative.py:983: FutureWarning: Attribute `affinity` was deprecated in version 1.2 and will be removed in 1.4. Use `metric` instead\n",
      "  warnings.warn(\n",
      "/home/olivier/anaconda3/lib/python3.9/site-packages/sklearn/cluster/_agglomerative.py:983: FutureWarning: Attribute `affinity` was deprecated in version 1.2 and will be removed in 1.4. Use `metric` instead\n",
      "  warnings.warn(\n",
      "/home/olivier/anaconda3/lib/python3.9/site-packages/sklearn/cluster/_agglomerative.py:983: FutureWarning: Attribute `affinity` was deprecated in version 1.2 and will be removed in 1.4. Use `metric` instead\n",
      "  warnings.warn(\n",
      "/home/olivier/anaconda3/lib/python3.9/site-packages/sklearn/cluster/_agglomerative.py:983: FutureWarning: Attribute `affinity` was deprecated in version 1.2 and will be removed in 1.4. Use `metric` instead\n",
      "  warnings.warn(\n",
      "/home/olivier/anaconda3/lib/python3.9/site-packages/sklearn/cluster/_agglomerative.py:983: FutureWarning: Attribute `affinity` was deprecated in version 1.2 and will be removed in 1.4. Use `metric` instead\n",
      "  warnings.warn(\n",
      "/home/olivier/anaconda3/lib/python3.9/site-packages/sklearn/cluster/_agglomerative.py:983: FutureWarning: Attribute `affinity` was deprecated in version 1.2 and will be removed in 1.4. Use `metric` instead\n",
      "  warnings.warn(\n",
      "/home/olivier/anaconda3/lib/python3.9/site-packages/sklearn/cluster/_agglomerative.py:983: FutureWarning: Attribute `affinity` was deprecated in version 1.2 and will be removed in 1.4. Use `metric` instead\n",
      "  warnings.warn(\n",
      "/home/olivier/anaconda3/lib/python3.9/site-packages/sklearn/cluster/_agglomerative.py:983: FutureWarning: Attribute `affinity` was deprecated in version 1.2 and will be removed in 1.4. Use `metric` instead\n",
      "  warnings.warn(\n",
      "/home/olivier/anaconda3/lib/python3.9/site-packages/sklearn/cluster/_agglomerative.py:983: FutureWarning: Attribute `affinity` was deprecated in version 1.2 and will be removed in 1.4. Use `metric` instead\n",
      "  warnings.warn(\n",
      "/home/olivier/anaconda3/lib/python3.9/site-packages/sklearn/cluster/_agglomerative.py:983: FutureWarning: Attribute `affinity` was deprecated in version 1.2 and will be removed in 1.4. Use `metric` instead\n",
      "  warnings.warn(\n",
      "/home/olivier/anaconda3/lib/python3.9/site-packages/sklearn/cluster/_agglomerative.py:983: FutureWarning: Attribute `affinity` was deprecated in version 1.2 and will be removed in 1.4. Use `metric` instead\n",
      "  warnings.warn(\n",
      "/home/olivier/anaconda3/lib/python3.9/site-packages/sklearn/cluster/_agglomerative.py:983: FutureWarning: Attribute `affinity` was deprecated in version 1.2 and will be removed in 1.4. Use `metric` instead\n",
      "  warnings.warn(\n",
      "/home/olivier/anaconda3/lib/python3.9/site-packages/sklearn/cluster/_agglomerative.py:983: FutureWarning: Attribute `affinity` was deprecated in version 1.2 and will be removed in 1.4. Use `metric` instead\n",
      "  warnings.warn(\n",
      "/home/olivier/anaconda3/lib/python3.9/site-packages/sklearn/cluster/_agglomerative.py:983: FutureWarning: Attribute `affinity` was deprecated in version 1.2 and will be removed in 1.4. Use `metric` instead\n",
      "  warnings.warn(\n",
      "/home/olivier/anaconda3/lib/python3.9/site-packages/sklearn/cluster/_agglomerative.py:983: FutureWarning: Attribute `affinity` was deprecated in version 1.2 and will be removed in 1.4. Use `metric` instead\n",
      "  warnings.warn(\n",
      "/home/olivier/anaconda3/lib/python3.9/site-packages/sklearn/cluster/_agglomerative.py:983: FutureWarning: Attribute `affinity` was deprecated in version 1.2 and will be removed in 1.4. Use `metric` instead\n",
      "  warnings.warn(\n",
      "/home/olivier/anaconda3/lib/python3.9/site-packages/sklearn/cluster/_agglomerative.py:983: FutureWarning: Attribute `affinity` was deprecated in version 1.2 and will be removed in 1.4. Use `metric` instead\n",
      "  warnings.warn(\n",
      "/home/olivier/anaconda3/lib/python3.9/site-packages/sklearn/cluster/_agglomerative.py:983: FutureWarning: Attribute `affinity` was deprecated in version 1.2 and will be removed in 1.4. Use `metric` instead\n",
      "  warnings.warn(\n",
      "/home/olivier/anaconda3/lib/python3.9/site-packages/sklearn/cluster/_agglomerative.py:983: FutureWarning: Attribute `affinity` was deprecated in version 1.2 and will be removed in 1.4. Use `metric` instead\n",
      "  warnings.warn(\n",
      "/home/olivier/anaconda3/lib/python3.9/site-packages/sklearn/cluster/_agglomerative.py:983: FutureWarning: Attribute `affinity` was deprecated in version 1.2 and will be removed in 1.4. Use `metric` instead\n",
      "  warnings.warn(\n",
      "/home/olivier/anaconda3/lib/python3.9/site-packages/sklearn/cluster/_agglomerative.py:983: FutureWarning: Attribute `affinity` was deprecated in version 1.2 and will be removed in 1.4. Use `metric` instead\n",
      "  warnings.warn(\n"
     ]
    }
   ],
   "source": [
    "linkage_ = ['ward', 'complete', 'average', 'single', 'complete', 'average', 'single', 'complete', 'average', 'single']\n",
    "affinity = ['euclidean', 'euclidean', 'euclidean', 'euclidean', 'manhattan', 'manhattan', 'manhattan', 'l1', 'l1', 'l1']\n",
    "list_metric = []\n",
    "for i, j in zip(linkage_, affinity):\n",
    "    hac = AgglomerativeClustering(linkage = i, affinity = j)\n",
    "    hac = hac.fit(X)\n",
    "    list_metric.append(metrics.adjusted_rand_score(hac.fit_predict(X),iris.target))\n",
    "    print(metrics.adjusted_rand_score(hac.fit_predict(X),iris.target))\n",
    "\n"
   ]
  },
  {
   "cell_type": "code",
   "execution_count": 37,
   "id": "8c8c676a",
   "metadata": {},
   "outputs": [
    {
     "data": {
      "text/plain": [
       "array([['ward', 'euclidean', '0.5681159420289855'],\n",
       "       ['complete', 'euclidean', '0.4219886317147244'],\n",
       "       ['average', 'euclidean', '0.5681159420289855'],\n",
       "       ['single', 'euclidean', '0.5681159420289855'],\n",
       "       ['complete', 'manhattan', '0.2448829930725613'],\n",
       "       ['average', 'manhattan', '0.5681159420289855'],\n",
       "       ['single', 'manhattan', '0.5681159420289855'],\n",
       "       ['complete', 'l1', '0.2448829930725613'],\n",
       "       ['average', 'l1', '0.5681159420289855'],\n",
       "       ['single', 'l1', '0.5681159420289855']], dtype='<U32')"
      ]
     },
     "execution_count": 37,
     "metadata": {},
     "output_type": "execute_result"
    }
   ],
   "source": [
    "tab_hac = np.vstack((linkage_, affinity, list_metric)).T\n",
    "tab_hac"
   ]
  },
  {
   "cell_type": "code",
   "execution_count": 41,
   "id": "a2f8b18f",
   "metadata": {
    "collapsed": true
   },
   "outputs": [
    {
     "data": {
      "text/html": [
       "<div>\n",
       "<style scoped>\n",
       "    .dataframe tbody tr th:only-of-type {\n",
       "        vertical-align: middle;\n",
       "    }\n",
       "\n",
       "    .dataframe tbody tr th {\n",
       "        vertical-align: top;\n",
       "    }\n",
       "\n",
       "    .dataframe thead th {\n",
       "        text-align: right;\n",
       "    }\n",
       "</style>\n",
       "<table border=\"1\" class=\"dataframe\">\n",
       "  <thead>\n",
       "    <tr style=\"text-align: right;\">\n",
       "      <th></th>\n",
       "      <th>0</th>\n",
       "      <th>1</th>\n",
       "      <th>2</th>\n",
       "    </tr>\n",
       "  </thead>\n",
       "  <tbody>\n",
       "    <tr>\n",
       "      <th>0</th>\n",
       "      <td>ward</td>\n",
       "      <td>euclidean</td>\n",
       "      <td>0.5681159420289855</td>\n",
       "    </tr>\n",
       "    <tr>\n",
       "      <th>1</th>\n",
       "      <td>complete</td>\n",
       "      <td>euclidean</td>\n",
       "      <td>0.4219886317147244</td>\n",
       "    </tr>\n",
       "    <tr>\n",
       "      <th>2</th>\n",
       "      <td>average</td>\n",
       "      <td>euclidean</td>\n",
       "      <td>0.5681159420289855</td>\n",
       "    </tr>\n",
       "    <tr>\n",
       "      <th>3</th>\n",
       "      <td>single</td>\n",
       "      <td>euclidean</td>\n",
       "      <td>0.5681159420289855</td>\n",
       "    </tr>\n",
       "    <tr>\n",
       "      <th>4</th>\n",
       "      <td>complete</td>\n",
       "      <td>manhattan</td>\n",
       "      <td>0.2448829930725613</td>\n",
       "    </tr>\n",
       "    <tr>\n",
       "      <th>5</th>\n",
       "      <td>average</td>\n",
       "      <td>manhattan</td>\n",
       "      <td>0.5681159420289855</td>\n",
       "    </tr>\n",
       "    <tr>\n",
       "      <th>6</th>\n",
       "      <td>single</td>\n",
       "      <td>manhattan</td>\n",
       "      <td>0.5681159420289855</td>\n",
       "    </tr>\n",
       "    <tr>\n",
       "      <th>7</th>\n",
       "      <td>complete</td>\n",
       "      <td>l1</td>\n",
       "      <td>0.2448829930725613</td>\n",
       "    </tr>\n",
       "    <tr>\n",
       "      <th>8</th>\n",
       "      <td>average</td>\n",
       "      <td>l1</td>\n",
       "      <td>0.5681159420289855</td>\n",
       "    </tr>\n",
       "    <tr>\n",
       "      <th>9</th>\n",
       "      <td>single</td>\n",
       "      <td>l1</td>\n",
       "      <td>0.5681159420289855</td>\n",
       "    </tr>\n",
       "  </tbody>\n",
       "</table>\n",
       "</div>"
      ],
      "text/plain": [
       "          0          1                   2\n",
       "0      ward  euclidean  0.5681159420289855\n",
       "1  complete  euclidean  0.4219886317147244\n",
       "2   average  euclidean  0.5681159420289855\n",
       "3    single  euclidean  0.5681159420289855\n",
       "4  complete  manhattan  0.2448829930725613\n",
       "5   average  manhattan  0.5681159420289855\n",
       "6    single  manhattan  0.5681159420289855\n",
       "7  complete         l1  0.2448829930725613\n",
       "8   average         l1  0.5681159420289855\n",
       "9    single         l1  0.5681159420289855"
      ]
     },
     "execution_count": 41,
     "metadata": {},
     "output_type": "execute_result"
    }
   ],
   "source": [
    "cols = [\"linkage_\", \"affinity\", \"list_metric\"]\n",
    "tab_hac = pd.DataFrame(tab_hac)\n",
    "tab_hac"
   ]
  },
  {
   "cell_type": "code",
   "execution_count": 42,
   "id": "09ab5e9a",
   "metadata": {},
   "outputs": [],
   "source": [
    "tab_hac.columns = cols"
   ]
  },
  {
   "cell_type": "code",
   "execution_count": 46,
   "id": "e63d3858",
   "metadata": {
    "scrolled": true
   },
   "outputs": [
    {
     "data": {
      "text/html": [
       "<div>\n",
       "<style scoped>\n",
       "    .dataframe tbody tr th:only-of-type {\n",
       "        vertical-align: middle;\n",
       "    }\n",
       "\n",
       "    .dataframe tbody tr th {\n",
       "        vertical-align: top;\n",
       "    }\n",
       "\n",
       "    .dataframe thead th {\n",
       "        text-align: right;\n",
       "    }\n",
       "</style>\n",
       "<table border=\"1\" class=\"dataframe\">\n",
       "  <thead>\n",
       "    <tr style=\"text-align: right;\">\n",
       "      <th></th>\n",
       "      <th>0</th>\n",
       "      <th>1</th>\n",
       "      <th>2</th>\n",
       "      <th>3</th>\n",
       "      <th>4</th>\n",
       "      <th>5</th>\n",
       "      <th>6</th>\n",
       "      <th>7</th>\n",
       "      <th>8</th>\n",
       "      <th>9</th>\n",
       "    </tr>\n",
       "  </thead>\n",
       "  <tbody>\n",
       "    <tr>\n",
       "      <th>linkage_</th>\n",
       "      <td>ward</td>\n",
       "      <td>complete</td>\n",
       "      <td>average</td>\n",
       "      <td>single</td>\n",
       "      <td>complete</td>\n",
       "      <td>average</td>\n",
       "      <td>single</td>\n",
       "      <td>complete</td>\n",
       "      <td>average</td>\n",
       "      <td>single</td>\n",
       "    </tr>\n",
       "    <tr>\n",
       "      <th>affinity</th>\n",
       "      <td>euclidean</td>\n",
       "      <td>euclidean</td>\n",
       "      <td>euclidean</td>\n",
       "      <td>euclidean</td>\n",
       "      <td>manhattan</td>\n",
       "      <td>manhattan</td>\n",
       "      <td>manhattan</td>\n",
       "      <td>l1</td>\n",
       "      <td>l1</td>\n",
       "      <td>l1</td>\n",
       "    </tr>\n",
       "    <tr>\n",
       "      <th>list_metric</th>\n",
       "      <td>0.5681159420289855</td>\n",
       "      <td>0.4219886317147244</td>\n",
       "      <td>0.5681159420289855</td>\n",
       "      <td>0.5681159420289855</td>\n",
       "      <td>0.2448829930725613</td>\n",
       "      <td>0.5681159420289855</td>\n",
       "      <td>0.5681159420289855</td>\n",
       "      <td>0.2448829930725613</td>\n",
       "      <td>0.5681159420289855</td>\n",
       "      <td>0.5681159420289855</td>\n",
       "    </tr>\n",
       "  </tbody>\n",
       "</table>\n",
       "</div>"
      ],
      "text/plain": [
       "                              0                   1                   2  \\\n",
       "linkage_                   ward            complete             average   \n",
       "affinity              euclidean           euclidean           euclidean   \n",
       "list_metric  0.5681159420289855  0.4219886317147244  0.5681159420289855   \n",
       "\n",
       "                              3                   4                   5  \\\n",
       "linkage_                 single            complete             average   \n",
       "affinity              euclidean           manhattan           manhattan   \n",
       "list_metric  0.5681159420289855  0.2448829930725613  0.5681159420289855   \n",
       "\n",
       "                              6                   7                   8  \\\n",
       "linkage_                 single            complete             average   \n",
       "affinity              manhattan                  l1                  l1   \n",
       "list_metric  0.5681159420289855  0.2448829930725613  0.5681159420289855   \n",
       "\n",
       "                              9  \n",
       "linkage_                 single  \n",
       "affinity                     l1  \n",
       "list_metric  0.5681159420289855  "
      ]
     },
     "execution_count": 46,
     "metadata": {},
     "output_type": "execute_result"
    }
   ],
   "source": [
    "tab_hac.T"
   ]
  },
  {
   "cell_type": "code",
   "execution_count": 26,
   "id": "3a3ec6a3",
   "metadata": {
    "scrolled": true
   },
   "outputs": [
    {
     "data": {
      "image/png": "[encoded data removed]",
      "text/plain": [
       "<Figure size 1000x700 with 1 Axes>"
      ]
     },
     "metadata": {},
     "output_type": "display_data"
    }
   ],
   "source": [
    "# Plotting the dendrogram\n",
    "plt.figure(figsize=(10, 7))\n",
    "plt.title(\"Dendrogram\")\n",
    "linkage_matrix = linkage(hac.children_, 'complete')\n",
    "dendrogram = sch.dendrogram(linkage_matrix)\n",
    "plt.show()"
   ]
  },
  {
   "cell_type": "code",
   "execution_count": 27,
   "id": "9aad2f35",
   "metadata": {},
   "outputs": [
    {
     "data": {
      "image/png": "[encoded data removed]",
      "text/plain": [
       "<Figure size 1000x700 with 1 Axes>"
      ]
     },
     "metadata": {},
     "output_type": "display_data"
    }
   ],
   "source": [
    "# Plotting the dendrogram\n",
    "plt.figure(figsize=(10, 7))\n",
    "plt.title(\"Dendrogram\")\n",
    "linkage_matrix = linkage(hac.children_, 'complete')\n",
    "dendrogram = sch.dendrogram(linkage_matrix,truncate_mode='level', p=3)\n",
    "plt.show()"
   ]
  },
  {
   "cell_type": "code",
   "execution_count": null,
   "id": "f1e0dc4c",
   "metadata": {},
   "outputs": [],
   "source": []
  }
 ],
 "metadata": {
  "kernelspec": {
   "display_name": "Python 3 (ipykernel)",
   "language": "python",
   "name": "python3"
  },
  "language_info": {
   "codemirror_mode": {
    "name": "ipython",
    "version": 3
   },
   "file_extension": ".py",
   "mimetype": "text/x-python",
   "name": "python",
   "nbconvert_exporter": "python",
   "pygments_lexer": "ipython3",
   "version": "3.9.16"
  }
 },
 "nbformat": 4,
 "nbformat_minor": 5
}
